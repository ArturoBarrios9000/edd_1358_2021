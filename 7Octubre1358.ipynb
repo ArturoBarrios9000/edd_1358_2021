{
  "nbformat": 4,
  "nbformat_minor": 0,
  "metadata": {
    "colab": {
      "name": "7Octubre1358.ipynb",
      "provenance": [],
      "authorship_tag": "ABX9TyPimFmyIBl9oK+u74vdMq3p",
      "include_colab_link": true
    },
    "kernelspec": {
      "name": "python3",
      "display_name": "Python 3"
    }
  },
  "cells": [
    {
      "cell_type": "markdown",
      "metadata": {
        "id": "view-in-github",
        "colab_type": "text"
      },
      "source": [
        "<a href=\"https://colab.research.google.com/github/ArturoBarrios9000/edd_1358_2021/blob/master/7Octubre1358.ipynb\" target=\"_parent\"><img src=\"https://colab.research.google.com/assets/colab-badge.svg\" alt=\"Open In Colab\"/></a>"
      ]
    },
    {
      "cell_type": "code",
      "metadata": {
        "id": "jvq4rkubnJh0",
        "outputId": "e6ac5437-a7eb-49dd-f279-de34b7889b95",
        "colab": {
          "base_uri": "https://localhost:8080/"
        }
      },
      "source": [
        "autos = [\"Mazda\",\"honda\",\"Akura\",\"Ford\",\"VW\"]\n",
        "telefonos = [\"iPhone\",\"Huawei Mate 30\", \"Xiaomi S10\",\"Alcatel t1000\"]\n",
        "sistemas_operativos = [ \"Windows\", \"Linux\" , \"Android\" , \"iOS\" ,\"MacOs\" ]\n",
        "procesadores = [[\"Intel\",3.1,True],[\"AMD\",2.7,False],[\"Motorola\",1.1,False]]\n",
        "\n",
        "\n",
        "lista_nd = [autos,telefonos,sistemas_operativos,procesadores]\n",
        "print(lista_nd)\n",
        "print(lista_nd[1][1])\n",
        "print(lista_nd[2][3])\n",
        "print(lista_nd[1][1][3:7:])\n",
        "print(lista_nd[2][3])\n",
        "print(lista_nd[3][1][1])\n",
        "print(lista_nd[3][2][0][2:6:])\n",
        "print(lista_nd[3][0][0][3:0:-1])\n",
        "\n",
        "colores= [\"rojo\",\"verde\",\"Azul\",\"Negro\"]\n",
        "flores=[\"Margarita\",\"Rosa\"]\n",
        "\n",
        "#concatenar listas\n",
        "nueva= colores + flores # para sumar sin modificar las originales\n",
        "print(nueva)\n",
        "print(colores)\n",
        "print(flores)\n",
        "\n",
        "#con extends\n",
        "colores.extend(flores)\n",
        "print(colores)\n",
        "\n",
        "#unpacking listas\n",
        "datos_personales=[\"José\",\"Pérez\",\"Juárez\",22,1.67,True]\n",
        "nombre,paterno,materno,edad,est,fuma = datos_personales\n",
        "print(f\"nombre:{nombre}\\nEdad:{edad}\")\n"
      ],
      "execution_count": 27,
      "outputs": [
        {
          "output_type": "stream",
          "text": [
            "[['Mazda', 'honda', 'Akura', 'Ford', 'VW'], ['iPhone', 'Huawei Mate 30', 'Xiaomi S10', 'Alcatel t1000'], ['Windows', 'Linux', 'Android', 'iOS', 'MacOs'], [['Intel', 3.1, True], ['AMD', 2.7, False], ['Motorola', 1.1, False]]]\n",
            "Huawei Mate 30\n",
            "iOS\n",
            "wei \n",
            "iOS\n",
            "2.7\n",
            "toro\n",
            "etn\n",
            "['rojo', 'verde', 'Azul', 'Negro', 'Margarita', 'Rosa']\n",
            "['rojo', 'verde', 'Azul', 'Negro']\n",
            "['Margarita', 'Rosa']\n",
            "['rojo', 'verde', 'Azul', 'Negro', 'Margarita', 'Rosa']\n",
            "nombre:José\n",
            "Edad:22\n"
          ],
          "name": "stdout"
        }
      ]
    },
    {
      "cell_type": "markdown",
      "metadata": {
        "id": "grbArS9Bu20m"
      },
      "source": [
        ""
      ]
    },
    {
      "cell_type": "code",
      "metadata": {
        "id": "_6vwZytxuJte",
        "outputId": "cffcbb04-f9bf-41b7-9ec5-441bcf8b2db0",
        "colab": {
          "base_uri": "https://localhost:8080/"
        }
      },
      "source": [
        "# Tuplas\n",
        "bd=('127.0.0.1','root','toor','1345')\n",
        "print(f\"usuario de la base de datos es {bd[1]} \")\n",
        "# bd[1]='user 1' no se puede agregar\n",
        "\n",
        "print(bd[1:3])\n"
      ],
      "execution_count": 32,
      "outputs": [
        {
          "output_type": "stream",
          "text": [
            "usuario de la base de datos es root \n",
            "('root', 'toor')\n"
          ],
          "name": "stdout"
        }
      ]
    },
    {
      "cell_type": "code",
      "metadata": {
        "id": "MgdVB5CawYMV",
        "outputId": "98022b58-bd2d-48c4-d384-574d126985cd",
        "colab": {
          "base_uri": "https://localhost:8080/"
        }
      },
      "source": [
        "# diccionarios se pueden anidar, declaracion {}\n",
        "alumno={\"nombre\":\"juan\",\"edad\":22,\"carrera\":\"ico\"}\n",
        "print(alumno)\n",
        "print(alumno[\"edad\"])\n",
        "alumno={\"nombre\":\"juan\",\n",
        "        \"edad\":22,\n",
        "        \"carrera\":\"ico\",\n",
        "        'direccion' : {'calle':'bosques de africa',\n",
        "                      'numero':33,\n",
        "                      'delegacion':'Nezahualcoyotl',\n",
        "                      'estado':15,\n",
        "                      'nombre_estado':'Estado de mexico'\n",
        "                      }\n",
        "        }\n",
        "print(alumno['direccion'])\n",
        "print(alumno['direccion']['delegacion'])\n",
        "print(alumno['direccion']['delegacion'][3:7:].upper())\n",
        "\n",
        "#modificar elementos\n",
        "alumno['edad'] = 35\n",
        "print(alumno)\n",
        "alumno['promedio']=9.9\n",
        "print(alumno)\n",
        "alumno['direccion']['cp']=17170\n",
        "print(alumno)\n",
        "alumno['materia']={'nombre':'CYP','calificacion':10}\n",
        "print(alumno)\n",
        "\n",
        "cliente={   'id'    :  1 ,  'nombre'   : 'Calos Slim'  }\n",
        "print(cliente)"
      ],
      "execution_count": 46,
      "outputs": [
        {
          "output_type": "stream",
          "text": [
            "{'nombre': 'juan', 'edad': 22, 'carrera': 'ico'}\n",
            "22\n",
            "{'calle': 'bosques de africa', 'numero': 33, 'delegacion': 'Nezahualcoyotl', 'estado': 15, 'nombre_estado': 'Estado de mexico'}\n",
            "Nezahualcoyotl\n",
            "AHUA\n",
            "{'nombre': 'juan', 'edad': 35, 'carrera': 'ico', 'direccion': {'calle': 'bosques de africa', 'numero': 33, 'delegacion': 'Nezahualcoyotl', 'estado': 15, 'nombre_estado': 'Estado de mexico'}}\n",
            "{'nombre': 'juan', 'edad': 35, 'carrera': 'ico', 'direccion': {'calle': 'bosques de africa', 'numero': 33, 'delegacion': 'Nezahualcoyotl', 'estado': 15, 'nombre_estado': 'Estado de mexico'}, 'promedio': 9.9}\n",
            "{'nombre': 'juan', 'edad': 35, 'carrera': 'ico', 'direccion': {'calle': 'bosques de africa', 'numero': 33, 'delegacion': 'Nezahualcoyotl', 'estado': 15, 'nombre_estado': 'Estado de mexico', 'cp': 17170}, 'promedio': 9.9}\n",
            "{'nombre': 'juan', 'edad': 35, 'carrera': 'ico', 'direccion': {'calle': 'bosques de africa', 'numero': 33, 'delegacion': 'Nezahualcoyotl', 'estado': 15, 'nombre_estado': 'Estado de mexico', 'cp': 17170}, 'promedio': 9.9, 'materia': {'nombre': 'CYP', 'calificacion': 10}}\n"
          ],
          "name": "stdout"
        }
      ]
    }
  ]
}