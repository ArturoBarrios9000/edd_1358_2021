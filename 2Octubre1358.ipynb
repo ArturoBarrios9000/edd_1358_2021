{
  "nbformat": 4,
  "nbformat_minor": 0,
  "metadata": {
    "colab": {
      "name": "2Octubre1358.ipynb",
      "provenance": [],
      "collapsed_sections": [],
      "authorship_tag": "ABX9TyO26RBY0UqNuvDWk0Jrg1sf",
      "include_colab_link": true
    },
    "kernelspec": {
      "name": "python3",
      "display_name": "Python 3"
    }
  },
  "cells": [
    {
      "cell_type": "markdown",
      "metadata": {
        "id": "view-in-github",
        "colab_type": "text"
      },
      "source": [
        "<a href=\"https://colab.research.google.com/github/ArturoBarrios9000/edd_1358_2021/blob/master/2Octubre1358.ipynb\" target=\"_parent\"><img src=\"https://colab.research.google.com/assets/colab-badge.svg\" alt=\"Open In Colab\"/></a>"
      ]
    },
    {
      "cell_type": "markdown",
      "metadata": {
        "id": "WGwyDvH53U6D"
      },
      "source": [
        "# tipos de dato\n",
        "- string           str\n",
        "-entero            int\n",
        "-numero flotante   float\n",
        "-logico            bool\n",
        "-numero complejo   complex\n",
        "-listas            list\n",
        "-tuplas            tuple\n",
        "-diccionarios      dic\n",
        "-conjuntos         set"
      ]
    },
    {
      "cell_type": "code",
      "metadata": {
        "id": "28K-NbqH30wl",
        "outputId": "2720720f-812c-4259-b8b3-61d676950d7a",
        "colab": {
          "base_uri": "https://localhost:8080/",
          "height": 153
        }
      },
      "source": [
        "#string puede emplear \"\", '' o \"\"\" \"\"\"\n",
        "universidad =\"            universidad        nacional     autonoma    de mexico\"\n",
        "print( universidad)\n",
        "# cuando el string es una sola palabra se usa '' -> buena practica\n",
        "carrera = 'ico'\n",
        "area = \"software\"\n",
        "division = 'division de las ciencias fisico matematicas'  \n",
        "print(carrera,area)\n",
        "print(division)\n",
        "# \"\"\" cuando el string incluye varios renglones\n",
        "frase = \"\"\"\n",
        "si funciona\n",
        "no lo \n",
        "arregles\n",
        "\"\"\"\n",
        "print(frase)"
      ],
      "execution_count": null,
      "outputs": [
        {
          "output_type": "stream",
          "text": [
            "            universidad        nacional     autonoma    de mexico\n",
            "ico software\n",
            "division de las ciencias fisico matematicas\n",
            "\n",
            "si funciona\n",
            "no lo \n",
            "arregles\n",
            "\n"
          ],
          "name": "stdout"
        }
      ]
    },
    {
      "cell_type": "code",
      "metadata": {
        "id": "Mt2F_OKZ5fgs",
        "outputId": "62eb91c1-3ef1-47f9-e949-304e4ae9b987",
        "colab": {
          "base_uri": "https://localhost:8080/",
          "height": 224
        }
      },
      "source": [
        "print(universiad.upper())\n",
        "print(universidad)\n",
        "print(universidad.title()) # mayusculas la primera\n",
        "universidad= universidad.strip() # eliminar espacios a la izq y der\n",
        "print(universidad)\n",
        "lista = universidad.split(\" \")\n",
        "print(lista)\n",
        "nueva = \"\"\n",
        "for l in lista:\n",
        "  if len(l)>0:\n",
        "    nueva +=l +\" \"\n",
        "print(nueva) \n",
        "\n",
        "numeros = \"1,2,34,56,100\"\n",
        "separados = numeros.split(\",\")\n",
        "print(separados)\n",
        "numeros_int= []\n",
        "for num in separados:\n",
        "  # pyton se apoya de los tabuladores\n",
        "  numeros_int.append(int(num))\n",
        "\n",
        "print (numeros_int)\n",
        "print(nueva)\n",
        "print(nueva.index(\"na\")) #indica que espacio esta iniciando de 0\n",
        "\n",
        "print(nueva.replace(' ', '-'))"
      ],
      "execution_count": 23,
      "outputs": [
        {
          "output_type": "stream",
          "text": [
            "                UNIVERSIDAD        NACIONAL     AUTONOMA    DE MEXICO\n",
            "universidad        nacional     autonoma    de mexico\n",
            "Universidad        Nacional     Autonoma    De Mexico\n",
            "universidad        nacional     autonoma    de mexico\n",
            "['universidad', '', '', '', '', '', '', '', 'nacional', '', '', '', '', 'autonoma', '', '', '', 'de', 'mexico']\n",
            "universidad nacional autonoma de mexico \n",
            "['1', '2', '34', '56', '100']\n",
            "[1, 2, 34, 56, 100]\n",
            "universidad nacional autonoma de mexico \n",
            "12\n",
            "universidad-nacional-autonoma-de-mexico-\n"
          ],
          "name": "stdout"
        }
      ]
    },
    {
      "cell_type": "markdown",
      "metadata": {
        "id": "ds8THsUY_VSr"
      },
      "source": [
        "#slicing\n",
        "sintaxis\n",
        "[inicio: stop : incremento ]\n"
      ]
    },
    {
      "cell_type": "code",
      "metadata": {
        "id": "jQXspK4g_we8",
        "outputId": "f3d9d414-2b74-4014-9430-608cba7ca101",
        "colab": {
          "base_uri": "https://localhost:8080/",
          "height": 136
        }
      },
      "source": [
        "#selector de elementos de un string\n",
        "print( nueva[0] )\n",
        "nueva= nueva.strip()\n",
        "print( nueva[len(nueva) -1] )\n",
        "print( nueva[-2] )\n",
        "\n",
        "#slicing\n",
        "print (nueva)\n",
        "print(nueva[ 12: 20 : 1 ]) # el stop no incluye el tope\n",
        "print(nueva [ -6:  :1])\n",
        "print(nueva [ -1 : -7 :-1])\n",
        "\n",
        "# valores por defecto [0 : longitud de la lista : 1]\n"
      ],
      "execution_count": 36,
      "outputs": [
        {
          "output_type": "stream",
          "text": [
            "u\n",
            "o\n",
            "c\n",
            "universidad nacional autonoma de mexico\n",
            "nacional\n",
            "mexico\n",
            "ocixem\n"
          ],
          "name": "stdout"
        }
      ]
    },
    {
      "cell_type": "markdown",
      "metadata": {
        "id": "4Le7JGtTEAil"
      },
      "source": [
        "# bool\n",
        "Acepta dos valores\n",
        "True bool(1)\n",
        "False bool(0)"
      ]
    },
    {
      "cell_type": "code",
      "metadata": {
        "id": "G4uvOsNbETrH",
        "outputId": "a13abf2a-5c35-4c65-d7e2-3a9b68a6bba5",
        "colab": {
          "base_uri": "https://localhost:8080/",
          "height": 85
        }
      },
      "source": [
        "print(bool(0))\n",
        "print(bool(12454))\n",
        "flag= 0 \n",
        "print(bool(flag))\n",
        "print(True)"
      ],
      "execution_count": 37,
      "outputs": [
        {
          "output_type": "stream",
          "text": [
            "False\n",
            "True\n",
            "False\n",
            "True\n"
          ],
          "name": "stdout"
        }
      ]
    },
    {
      "cell_type": "markdown",
      "metadata": {
        "id": "2Xxls7FqFSeE"
      },
      "source": [
        "# comentario\n",
        "para un comentario se usa una linea #\n",
        "para un comentario de multiple linea, equivalente a /* */ de java y leng usa \"\"\" \"\"\"\n"
      ]
    },
    {
      "cell_type": "code",
      "metadata": {
        "id": "D8Bn0oiWFVYr"
      },
      "source": [
        "# este es un comentario\n",
        "\"\"\"\n",
        "este es\n",
        "un comentario\n",
        "de mutliple linea\n",
        "\"\"\"\n"
      ],
      "execution_count": null,
      "outputs": []
    },
    {
      "cell_type": "markdown",
      "metadata": {
        "id": "Y4Xl5uvhFvlF"
      },
      "source": [
        "# funcion Print\n",
        "Hay cuatro formas de usar print\n",
        "1. Con comas (,)\n",
        "1. Con signo + (+)\n",
        "1. Con la funcion format() de la clase string\n",
        "1. con el operador f\"\""
      ]
    },
    {
      "cell_type": "code",
      "metadata": {
        "id": "pDlpzfhWGEFi",
        "outputId": "92e873dd-ca83-4d71-957d-c141aa3dffd3",
        "colab": {
          "base_uri": "https://localhost:8080/",
          "height": 85
        }
      },
      "source": [
        "# Con comas (,) le hace un casting a estring e intruduce un espacio\n",
        "cantidad = 2\n",
        "precio_chetos = 8\n",
        "precio_fanta = 12\n",
        "print(cantidad, precio_chetos, precio_fanta)\n",
        "\n",
        "# con signo +, solo opera con str. concatena y no pone espacios\n",
        "print(\"hola\" + \"mundo\")\n",
        "print(cantidad + precio_chetos + precio_fanta)\n",
        "print(str(cantidad) + str(precio_chetos) + str(precio_fanta))\n"
      ],
      "execution_count": 43,
      "outputs": [
        {
          "output_type": "stream",
          "text": [
            "2 8 12\n",
            "holamundo\n",
            "22\n",
            "2812\n"
          ],
          "name": "stdout"
        }
      ]
    }
  ]
}