{
  "nbformat": 4,
  "nbformat_minor": 0,
  "metadata": {
    "colab": {
      "name": "TareaRemoveyPop.ipynb",
      "provenance": [],
      "authorship_tag": "ABX9TyOolhm0OgN+q4D9e48n6Ewn",
      "include_colab_link": true
    },
    "kernelspec": {
      "name": "python3",
      "display_name": "Python 3"
    }
  },
  "cells": [
    {
      "cell_type": "markdown",
      "metadata": {
        "id": "view-in-github",
        "colab_type": "text"
      },
      "source": [
        "<a href=\"https://colab.research.google.com/github/ArturoBarrios9000/edd_1358_2021/blob/master/TareaRemoveyPop.ipynb\" target=\"_parent\"><img src=\"https://colab.research.google.com/assets/colab-badge.svg\" alt=\"Open In Colab\"/></a>"
      ]
    },
    {
      "cell_type": "code",
      "metadata": {
        "id": "f2zyxfGEFN0m"
      },
      "source": [
        "class Nodo:\n",
        "    def __init__( self , dato, siguiente=None  ):\n",
        "        self.dato = dato\n",
        "        self.siguiente = siguiente\n",
        "\n",
        "class Linkedlist:\n",
        "  def __init__(self):\n",
        "    self.__head= None\n",
        "\n",
        "  def is_empty(self):\n",
        "    return self.__head == None \n",
        "  \n",
        "  def tail (self):\n",
        "    curr_node= self.__head   \n",
        "    while curr_node != None and curr_node.siguiente != None:\n",
        "      curr_node = curr_node.siguiente\n",
        "    return curr_node \n",
        "  \n",
        "  def append(self, value): #agrega un elemento al final\n",
        "    nuevo = Nodo(value)\n",
        "    if self.__head == None:\n",
        "      self.__head = nuevo\n",
        "    else:\n",
        "      self.tail().siguiente= nuevo\n",
        "  def trasnversal(self): #recorre e imprime cada valor\n",
        "    curr_node = self.__head\n",
        "    if curr_node == None:\n",
        "      print(\"Lista vacia\")\n",
        "    else:\n",
        "      while curr_node != None:\n",
        "        print(f\" { curr_node.dato } -->\",end=\"\")\n",
        "        curr_node = curr_node.siguiente\n",
        "    print(\"\\n\")\n",
        "  def preppend(self, value):\n",
        "    nuevo= Nodo(value) #codigo extendido\n",
        "    if self.__head == None:\n",
        "      self.__head == nuevo\n",
        "    else:\n",
        "      x = self.__head\n",
        "      self.__head= nuevo\n",
        "      nuevo.siguiente = x\n",
        "  def remove(self, value):\n",
        "    \n",
        "    curr_node = self.__head\n",
        "    if curr_node and curr_node.dato == value:\n",
        "      self.__head = curr_node.siguiente\n",
        "      curr_node= None\n",
        "      return\n",
        "    anterior= None\n",
        "    while curr_node and curr_node.dato != value:\n",
        "      anterior = curr_node\n",
        "      curr_node = curr_node.siguiente\n",
        "    if curr_node == None:\n",
        "      return\n",
        "    anterior.siguiente = curr_node.siguiente\n",
        "    curr_node = None\n",
        "\n",
        "\n",
        "\n",
        "    "
      ],
      "execution_count": null,
      "outputs": []
    },
    {
      "cell_type": "code",
      "metadata": {
        "colab": {
          "base_uri": "https://localhost:8080/",
          "height": 350
        },
        "id": "mSImJEEPFYj3",
        "outputId": "f16a2abf-8d06-49b5-931b-3f9bcececddc"
      },
      "source": [
        "l = Linkedlist()\n",
        "print(f\"l esta vacias?= {l.is_empty()}\")\n",
        "x = l.tail()\n",
        "print(x)\n",
        "l.append(10)\n",
        "l.append(20)\n",
        "l.append(30)\n",
        "l.append(40)\n",
        "l.trasnversal()\n",
        "l.preppend(5)\n",
        "l.trasnversal()\n",
        "l.remove(30)\n",
        "l.trasnversal()\n",
        "l.pop(40)\n",
        "l.trasnversal()"
      ],
      "execution_count": null,
      "outputs": [
        {
          "output_type": "stream",
          "text": [
            "l esta vacias?= True\n",
            "None\n",
            " 10 --> 20 --> 30 --> 40 -->\n",
            "\n",
            " 5 --> 10 --> 20 --> 30 --> 40 -->\n",
            "\n",
            " 5 --> 10 --> 20 --> 40 -->\n",
            "\n"
          ],
          "name": "stdout"
        },
        {
          "output_type": "error",
          "ename": "AttributeError",
          "evalue": "ignored",
          "traceback": [
            "\u001b[0;31m---------------------------------------------------------------------------\u001b[0m",
            "\u001b[0;31mAttributeError\u001b[0m                            Traceback (most recent call last)",
            "\u001b[0;32m<ipython-input-51-08eed603698e>\u001b[0m in \u001b[0;36m<module>\u001b[0;34m()\u001b[0m\n\u001b[1;32m     12\u001b[0m \u001b[0ml\u001b[0m\u001b[0;34m.\u001b[0m\u001b[0mremove\u001b[0m\u001b[0;34m(\u001b[0m\u001b[0;36m30\u001b[0m\u001b[0;34m)\u001b[0m\u001b[0;34m\u001b[0m\u001b[0;34m\u001b[0m\u001b[0m\n\u001b[1;32m     13\u001b[0m \u001b[0ml\u001b[0m\u001b[0;34m.\u001b[0m\u001b[0mtrasnversal\u001b[0m\u001b[0;34m(\u001b[0m\u001b[0;34m)\u001b[0m\u001b[0;34m\u001b[0m\u001b[0;34m\u001b[0m\u001b[0m\n\u001b[0;32m---> 14\u001b[0;31m \u001b[0ml\u001b[0m\u001b[0;34m.\u001b[0m\u001b[0mpop\u001b[0m\u001b[0;34m(\u001b[0m\u001b[0;36m1\u001b[0m\u001b[0;34m)\u001b[0m\u001b[0;34m\u001b[0m\u001b[0;34m\u001b[0m\u001b[0m\n\u001b[0m\u001b[1;32m     15\u001b[0m \u001b[0ml\u001b[0m\u001b[0;34m.\u001b[0m\u001b[0mtrasnversal\u001b[0m\u001b[0;34m(\u001b[0m\u001b[0;34m)\u001b[0m\u001b[0;34m\u001b[0m\u001b[0;34m\u001b[0m\u001b[0m\n",
            "\u001b[0;31mAttributeError\u001b[0m: 'Linkedlist' object has no attribute 'pop'"
          ]
        }
      ]
    }
  ]
}