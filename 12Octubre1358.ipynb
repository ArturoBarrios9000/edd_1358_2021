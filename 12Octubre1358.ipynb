{
  "nbformat": 4,
  "nbformat_minor": 0,
  "metadata": {
    "colab": {
      "name": "12Octubre1358.ipynb",
      "provenance": [],
      "collapsed_sections": [],
      "authorship_tag": "ABX9TyNWKonJOcluIJP0s/6QOfTr",
      "include_colab_link": true
    },
    "kernelspec": {
      "name": "python3",
      "display_name": "Python 3"
    }
  },
  "cells": [
    {
      "cell_type": "markdown",
      "metadata": {
        "id": "view-in-github",
        "colab_type": "text"
      },
      "source": [
        "<a href=\"https://colab.research.google.com/github/ArturoBarrios9000/edd_1358_2021/blob/master/12Octubre1358.ipynb\" target=\"_parent\"><img src=\"https://colab.research.google.com/assets/colab-badge.svg\" alt=\"Open In Colab\"/></a>"
      ]
    },
    {
      "cell_type": "code",
      "metadata": {
        "id": "1UPYO1ojVQb7",
        "outputId": "678a9c5b-71d1-4a1c-f41d-fc9f25a39b83",
        "colab": {
          "base_uri": "https://localhost:8080/",
          "height": 105
        }
      },
      "source": [
        "#diccionarios continuacion\n",
        "cliente_banco = {\n",
        "              \"id\":1,\n",
        "              \"nombres\":[\"Juan\",\"Antonio\"],\n",
        "              \"paterno\":\"García\",\n",
        "              \"materno\":\"Perez\",\n",
        "              \"telefonos\":{\n",
        "                          \"casa\": 54558742545,\n",
        "                          \"celular\":5574274532,\n",
        "                          \"trabajo\":5544782319 \n",
        "                          },\n",
        "              \"activo\":True,\n",
        "              \"balance\":234567.89,\n",
        "              \"tarjetas\": ({\"tipo\":\"debito\",\"saldo\":12000},\n",
        "                           {\"tipo\":\"credito\",\"saldo\":3500},\n",
        "                           {\"tipo\":\"credito\",\"nivel\":\"oro\",\"saldo\":55555})\n",
        "                           \n",
        "                }\n",
        "\n",
        "print(cliente_banco)\n",
        "cliente_banco[\"balance\"]=cliente_banco[\"balance\"]-1000.89\n",
        "#cliente_banco[\"balance\"]-=1000.89\n",
        "print(cliente_banco)\n",
        "cliente_banco[\"direccion\"]={\"calle\":\"rancho seco\",\"num\":\"23\"}\n",
        "print(cliente_banco)\n",
        "cliente_banco.pop(\"tarjetas\")\n",
        "print(cliente_banco)\n",
        "\n"
      ],
      "execution_count": 14,
      "outputs": [
        {
          "output_type": "stream",
          "text": [
            "{'id': 1, 'nombres': ['Juan', 'Antonio'], 'paterno': 'García', 'materno': 'Perez', 'telefonos': {'casa': 54558742545, 'celular': 5574274532, 'trabajo': 5544782319}, 'activo': True, 'balance': 234567.89, 'tarjetas': ({'tipo': 'debito', 'saldo': 12000}, {'tipo': 'credito', 'saldo': 3500}, {'tipo': 'credito', 'nivel': 'oro', 'saldo': 55555})}\n",
            "{'id': 1, 'nombres': ['Juan', 'Antonio'], 'paterno': 'García', 'materno': 'Perez', 'telefonos': {'casa': 54558742545, 'celular': 5574274532, 'trabajo': 5544782319}, 'activo': True, 'balance': 233567.0, 'tarjetas': ({'tipo': 'debito', 'saldo': 12000}, {'tipo': 'credito', 'saldo': 3500}, {'tipo': 'credito', 'nivel': 'oro', 'saldo': 55555})}\n",
            "{'id': 1, 'nombres': ['Juan', 'Antonio'], 'paterno': 'García', 'materno': 'Perez', 'telefonos': {'casa': 54558742545, 'celular': 5574274532, 'trabajo': 5544782319}, 'activo': True, 'balance': 233567.0, 'tarjetas': ({'tipo': 'debito', 'saldo': 12000}, {'tipo': 'credito', 'saldo': 3500}, {'tipo': 'credito', 'nivel': 'oro', 'saldo': 55555}), 'direccion': {'calle': 'rancho seco', 'num': '23'}}\n",
            "{'id': 1, 'nombres': ['Juan', 'Antonio'], 'paterno': 'García', 'materno': 'Perez', 'telefonos': {'casa': 54558742545, 'celular': 5574274532, 'trabajo': 5544782319}, 'activo': True, 'balance': 233567.0, 'direccion': {'calle': 'rancho seco', 'num': '23'}}\n"
          ],
          "name": "stdout"
        }
      ]
    },
    {
      "cell_type": "code",
      "metadata": {
        "id": "XSGADtnUddx_",
        "outputId": "82830c12-ccbc-45ef-89d0-65fe97aa4221",
        "colab": {
          "base_uri": "https://localhost:8080/",
          "height": 513
        }
      },
      "source": [
        "llaves=cliente_banco.keys()\n",
        "print(llaves)\n",
        "print(type(llaves))\n",
        "for x in llaves:\n",
        "    print(x)\n",
        "\n",
        "valores= cliente_banco.values()\n",
        "for v in valores:\n",
        "    print(v)\n",
        "print(\"---------\")\n",
        "pares= cliente_banco.items()\n",
        "print(pares)\n",
        "\n",
        "for elem in pares:\n",
        "  print(f\" {elem[0]} = {elem[1]}\")"
      ],
      "execution_count": 22,
      "outputs": [
        {
          "output_type": "stream",
          "text": [
            "dict_keys(['id', 'nombres', 'paterno', 'materno', 'telefonos', 'activo', 'balance', 'direccion'])\n",
            "<class 'dict_keys'>\n",
            "id\n",
            "nombres\n",
            "paterno\n",
            "materno\n",
            "telefonos\n",
            "activo\n",
            "balance\n",
            "direccion\n",
            "1\n",
            "['Juan', 'Antonio']\n",
            "García\n",
            "Perez\n",
            "{'casa': 54558742545, 'celular': 5574274532, 'trabajo': 5544782319}\n",
            "True\n",
            "233567.0\n",
            "{'calle': 'rancho seco', 'num': '23'}\n",
            "---------\n",
            "dict_items([('id', 1), ('nombres', ['Juan', 'Antonio']), ('paterno', 'García'), ('materno', 'Perez'), ('telefonos', {'casa': 54558742545, 'celular': 5574274532, 'trabajo': 5544782319}), ('activo', True), ('balance', 233567.0), ('direccion', {'calle': 'rancho seco', 'num': '23'})])\n",
            " id = 1\n",
            " nombres = ['Juan', 'Antonio']\n",
            " paterno = García\n",
            " materno = Perez\n",
            " telefonos = {'casa': 54558742545, 'celular': 5574274532, 'trabajo': 5544782319}\n",
            " activo = True\n",
            " balance = 233567.0\n",
            " direccion = {'calle': 'rancho seco', 'num': '23'}\n"
          ],
          "name": "stdout"
        }
      ]
    },
    {
      "cell_type": "code",
      "metadata": {
        "id": "YpukZhdmg9Fd",
        "outputId": "4203bbc7-4fd5-464b-8b2e-3c8a85416881",
        "colab": {
          "base_uri": "https://localhost:8080/",
          "height": 34
        }
      },
      "source": [
        "frutas={\"nombre\":\"manzana\", \"color\":\"rojo\",\"estado\":\"chihuahua\"}\n",
        "otras_caracteristicas={\"vitamina\":\"D\"}\n",
        "frutas.update(otras_caracteristicas)\n",
        "print(frutas)\n"
      ],
      "execution_count": 25,
      "outputs": [
        {
          "output_type": "stream",
          "text": [
            "{'nombre': 'manzana', 'color': 'rojo', 'estado': 'chihuahua', 'vitamina': 'D'}\n"
          ],
          "name": "stdout"
        }
      ]
    },
    {
      "cell_type": "markdown",
      "metadata": {
        "id": "zEdffUuLiPQM"
      },
      "source": [
        "#Funciones\n",
        "- recibe de 0 a n argumentos de entrada\n",
        "- regresa solo un valor, aunque sea None(nulo).\n",
        "- Tiene un nombre unico en el contexto\n",
        "- Se puden hacer solo dos cosas con funciones:\n",
        "   - Definirla\n",
        "   - Llamarla\n",
        "   "
      ]
    },
    {
      "cell_type": "code",
      "metadata": {
        "id": "D6SIoxhai8i2",
        "outputId": "055dfe82-a977-49c1-f843-f56abdce825c",
        "colab": {
          "base_uri": "https://localhost:8080/",
          "height": 51
        }
      },
      "source": [
        "def suma(x,y):\n",
        "  return None\n",
        "def suma(a,b):\n",
        "    return a+b\n",
        "def saludar():\n",
        "  print(\"hola como estas\")\n",
        "  return None\n",
        "x = 10\n",
        "y = 20\n",
        "c= suma(x,y)\n",
        "print(c) #agarra la ultima declaracion que se formo\n",
        "saludar()"
      ],
      "execution_count": 31,
      "outputs": [
        {
          "output_type": "stream",
          "text": [
            "30\n",
            "hola como estas\n"
          ],
          "name": "stdout"
        }
      ]
    },
    {
      "cell_type": "markdown",
      "metadata": {
        "id": "1ExL49lAkw5b"
      },
      "source": [
        "# None y las funciones\n",
        "Aprovechar el uso de none en paso de parametros"
      ]
    },
    {
      "cell_type": "code",
      "metadata": {
        "id": "JceWZqvwk5ui",
        "outputId": "16ad0ab4-bf33-4169-d946-a0eb115961b1",
        "colab": {
          "base_uri": "https://localhost:8080/",
          "height": 51
        }
      },
      "source": [
        "def calcular(base, veces):\n",
        "  if base != None: \n",
        "    resultado = base * veces\n",
        "  \n",
        "  else:\n",
        "    resultado = \"desconocido\"\n",
        "  return resultado\n",
        "print(calcular(4,3))\n",
        "print(calcular(None,3))"
      ],
      "execution_count": 38,
      "outputs": [
        {
          "output_type": "stream",
          "text": [
            "12\n",
            "desconocido\n"
          ],
          "name": "stdout"
        }
      ]
    }
  ]
}