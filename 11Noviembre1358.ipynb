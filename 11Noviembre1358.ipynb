{
  "nbformat": 4,
  "nbformat_minor": 0,
  "metadata": {
    "colab": {
      "name": "11Noviembre1358.ipynb",
      "provenance": [],
      "authorship_tag": "ABX9TyO0SvTtUM4W17UII5J18DCe",
      "include_colab_link": true
    },
    "kernelspec": {
      "name": "python3",
      "display_name": "Python 3"
    }
  },
  "cells": [
    {
      "cell_type": "markdown",
      "metadata": {
        "id": "view-in-github",
        "colab_type": "text"
      },
      "source": [
        "<a href=\"https://colab.research.google.com/github/ArturoBarrios9000/edd_1358_2021/blob/master/11Noviembre1358.ipynb\" target=\"_parent\"><img src=\"https://colab.research.google.com/assets/colab-badge.svg\" alt=\"Open In Colab\"/></a>"
      ]
    },
    {
      "cell_type": "code",
      "metadata": {
        "id": "OBQFFd1MDcQ8",
        "outputId": "d1371039-3612-4a08-86bf-147d123b8362",
        "colab": {
          "base_uri": "https://localhost:8080/",
          "height": 392
        }
      },
      "source": [
        "class Nodo:\n",
        "    def __init__( self , dato ):\n",
        "        self.__dato = dato\n",
        "        self.__siguiente = None\n",
        "\n",
        "    def get_dato( self ):\n",
        "        return self.__dato\n",
        "\n",
        "    def set_dato( self , d ):\n",
        "        self.__dato = d\n",
        "\n",
        "    def get_siguiente( self ):\n",
        "        return self.__siguiente\n",
        "\n",
        "    def set_siguiente( self , d ):\n",
        "        self.__siguiente = d\n",
        "\n",
        "    def show( self ):\n",
        "        curr_node = self # Head\n",
        "        print(\" Inicio de la estructura ligada:\")\n",
        "        print(\"|\" + str(curr_node.get_dato()) + \"| -->\" , end =\"\" )\n",
        "        while( curr_node.get_siguiente() != None ):\n",
        "            curr_node = curr_node.get_siguiente()\n",
        "            print(\"|\" + str(curr_node.get_dato() ) + \"| -->\" , end =\"\" )\n",
        "        print(\"\\nFin\")\n",
        "\n",
        " #Ejemplo 1\n",
        "a= Nodo(10)\n",
        "a.show()\n",
        "\n",
        " #ejemplo 2\n",
        "a.set_siguiente(Nodo(20))\n",
        "a.show()\n",
        "\n",
        " #ejemplo 3\n",
        "a.get_siguiente().set_siguiente(Nodo(40))\n",
        "a.show()\n",
        "\n",
        "# ejemplo 4\n",
        "a.get_siguiente().get_siguiente().set_siguiente(Nodo(30))\n",
        "a.show()\n",
        " \n",
        " #ejemplo 5\n",
        "a.get_siguiente().get_siguiente().get_siguiente().set_siguiente(Nodo(50))\n",
        "a.show()\n",
        "\n",
        "#Ejemplo 6\n",
        "a.set_dato(12)\n",
        "a.show()\n",
        "\n",
        "#ejemplo 7\n",
        "a.get_siguiente().get_siguiente().get_siguiente().get_siguiente().set_siguiente(Nodo(60))\n",
        "a.show()\n",
        "\"\"\"\n",
        "#ejemplo 9\n",
        "a.get_siguiente().get_siguiente().set_siguiente(25)\n",
        "a.show()\n",
        "\"\"\"\n",
        "\n"
      ],
      "execution_count": 27,
      "outputs": [
        {
          "output_type": "stream",
          "text": [
            " Inicio de la estructura ligada:\n",
            "|10| -->\n",
            "Fin\n",
            " Inicio de la estructura ligada:\n",
            "|10| -->|20| -->\n",
            "Fin\n",
            " Inicio de la estructura ligada:\n",
            "|10| -->|20| -->|40| -->\n",
            "Fin\n",
            " Inicio de la estructura ligada:\n",
            "|10| -->|20| -->|40| -->|30| -->\n",
            "Fin\n",
            " Inicio de la estructura ligada:\n",
            "|10| -->|20| -->|40| -->|30| -->|50| -->\n",
            "Fin\n",
            " Inicio de la estructura ligada:\n",
            "|12| -->|20| -->|40| -->|30| -->|50| -->\n",
            "Fin\n",
            " Inicio de la estructura ligada:\n",
            "|12| -->|20| -->|40| -->|30| -->|50| -->|60| -->\n",
            "Fin\n"
          ],
          "name": "stdout"
        },
        {
          "output_type": "execute_result",
          "data": {
            "application/vnd.google.colaboratory.intrinsic+json": {
              "type": "string"
            },
            "text/plain": [
              "'\\n#ejemplo 9\\na.get_siguiente().get_siguiente().set_siguiente(25)\\na.show()\\n'"
            ]
          },
          "metadata": {
            "tags": []
          },
          "execution_count": 27
        }
      ]
    },
    {
      "cell_type": "code",
      "metadata": {
        "id": "WmIwyPzSPrC4",
        "outputId": "c4971432-42bf-47aa-cde8-4a7500c6f8d6",
        "colab": {
          "base_uri": "https://localhost:8080/"
        }
      },
      "source": [
        "class Nodo:\n",
        "    def __init__( self , dato ):\n",
        "        self.dato = dato\n",
        "        self.siguiente = None\n",
        "\n",
        "#Ejemplo 1\n",
        "a = Nodo(10)\n",
        "print(a.dato)\n",
        "print(a.siguiente)    \n",
        "\n",
        "#Ejemplo 2\n",
        "a.siguiente = Nodo (20)\n",
        "#ejemplo 3\n",
        "a.siguiente.siguiente=Nodo(30)\n",
        "#ejemplo 4\n",
        "a.siguiente.siguiente.siguiente=Nodo(40)\n",
        "#ejem 5\n",
        "a.siguiente.siguiente.siguiente.siguiente=Nodo(50)\n",
        "\n",
        "\n",
        "#Recorrido transversal\n",
        "curr_node = a\n",
        "print(curr_node.dato , \"-->\" , end=\"\")\n",
        "while( curr_node.siguiente != None ):\n",
        "    curr_node = curr_node.siguiente\n",
        "    print(curr_node.dato, \"-->\" , end=\"\")\n",
        "print(\"\")\n",
        "\n",
        "#ejemplo 6\n",
        "a.siguiente.siguiente.siguiente.dato=45\n",
        "\n",
        "#ejemplo 7\n",
        "a.siguiente.siguiente.dato=35\n",
        "\n",
        "\n",
        "#ejemplo 8\n",
        "a.siguiente.siguiente=a.siguiente.siguiente.siguiente\n",
        "#ejemplo 9\n",
        "a.siguiente=a.siguiente.siguiente.siguiente.siguiente\n",
        "\n",
        "\n",
        "\n",
        "\n",
        "\n",
        "\n",
        "\n",
        "#Recorrido transversal\n",
        "curr_node = a\n",
        "print(curr_node.dato , \"-->\" , end=\"\")\n",
        "while( curr_node.siguiente != None ):\n",
        "    curr_node = curr_node.siguiente\n",
        "    print(curr_node.dato, \"-->\" , end=\"\")\n",
        "print(\"\")"
      ],
      "execution_count": 35,
      "outputs": [
        {
          "output_type": "stream",
          "text": [
            "10\n",
            "None\n",
            "10 -->20 -->30 -->40 -->50 -->\n",
            "10 -->\n"
          ],
          "name": "stdout"
        }
      ]
    }
  ]
}