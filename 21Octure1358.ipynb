{
  "nbformat": 4,
  "nbformat_minor": 0,
  "metadata": {
    "colab": {
      "name": "21Octure1358.ipynb",
      "provenance": [],
      "authorship_tag": "ABX9TyMJEx0imP1kXqW+VbPO7l9N",
      "include_colab_link": true
    },
    "kernelspec": {
      "name": "python3",
      "display_name": "Python 3"
    }
  },
  "cells": [
    {
      "cell_type": "markdown",
      "metadata": {
        "id": "view-in-github",
        "colab_type": "text"
      },
      "source": [
        "<a href=\"https://colab.research.google.com/github/ArturoBarrios9000/edd_1358_2021/blob/master/21Octure1358.ipynb\" target=\"_parent\"><img src=\"https://colab.research.google.com/assets/colab-badge.svg\" alt=\"Open In Colab\"/></a>"
      ]
    },
    {
      "cell_type": "code",
      "metadata": {
        "id": "mqTIu3_isW0T",
        "outputId": "474b6c5c-6fe8-4011-86bd-ada8e708c156",
        "colab": {
          "base_uri": "https://localhost:8080/",
          "height": 85
        }
      },
      "source": [
        "#Encapsulamiento tradicional\n",
        "class SmartPhone :\n",
        "  def __init__(self, m):\n",
        "    self.__marca = m\n",
        "  \n",
        "  def set_marca ( self , m):\n",
        "    self.__marca = m\n",
        "  \n",
        "  def get_marca( self ):\n",
        "    return self.__marca\n",
        "  \n",
        "  def to_string( self ):\n",
        "    return \"La marca del teléfono es:\" + self.__marca\n",
        "\n",
        "\n",
        "sp1 = SmartPhone(\"Huwawei\")\n",
        "print( sp1.to_string() )\n",
        "sp1.__marca= \"iphone\"\n",
        "print( sp1.to_string() )\n",
        "sp1.set_marca(\"Samsung\") #se cambio por el encapsulamiento\n",
        "print( sp1.to_string() )\n",
        "print( sp1.get_marca() )"
      ],
      "execution_count": 8,
      "outputs": [
        {
          "output_type": "stream",
          "text": [
            "La marca del teléfono es:Huwawei\n",
            "La marca del teléfono es:Huwawei\n",
            "La marca del teléfono es:Samsung\n",
            "Samsung\n"
          ],
          "name": "stdout"
        }
      ]
    },
    {
      "cell_type": "code",
      "metadata": {
        "id": "_sg4Ej4vxZT9",
        "outputId": "952cd676-dc6a-4956-84d0-28e2704aa837",
        "colab": {
          "base_uri": "https://localhost:8080/",
          "height": 119
        }
      },
      "source": [
        "# Estilo Python 3\n",
        "class SmartPhone:\n",
        "  def __init__ (self, m):\n",
        "    self.marca = m #llamando al metodo get\n",
        "\n",
        "  @property # define metodo get y declara self.__marca\n",
        "  def marca ( self ):\n",
        "    \n",
        "    return self.__marca\n",
        "\n",
        "  @marca.setter\n",
        "  def marca(self , m):\n",
        "    if m in [\"Lenovo\",\"Sony\",\"Motorola\",\"Iphone\",\"Huawei\",\"Xiaomi\"]:\n",
        "      self.__marca = m\n",
        "    else:\n",
        "      print(\"Error\")\n",
        "  def to_string(self):\n",
        "    return \"Marca= \"+ self.marca\n",
        "\n",
        "sp2 = SmartPhone(\"Xiaomi\")\n",
        "print( sp2.to_string() )\n",
        "sp2.__marca =\"Iphone\"\n",
        "print( sp2.to_string() )\n",
        "sp2.marca= \"Motorola\" #invocacion set\n",
        "print( sp2.to_string() )\n",
        "print( sp2.marca ) #invocacion de get\n",
        "\n",
        "sp2.marca=\"4456456\"\n",
        "print( sp2.to_string() )"
      ],
      "execution_count": 23,
      "outputs": [
        {
          "output_type": "stream",
          "text": [
            "Marca= Xiaomi\n",
            "Marca= Xiaomi\n",
            "Marca= Motorola\n",
            "Motorola\n",
            "Error\n",
            "Marca= Motorola\n"
          ],
          "name": "stdout"
        }
      ]
    },
    {
      "cell_type": "code",
      "metadata": {
        "id": "RwP5-6f65IGd",
        "outputId": "19f74e61-0076-487b-94ce-c75f5bdcccdc",
        "colab": {
          "base_uri": "https://localhost:8080/",
          "height": 71
        }
      },
      "source": [
        "class TelefonoTrabajo(SmartPhone):\n",
        "  def __init__(self, m):\n",
        "    self.marca = m\n",
        "\n",
        "sp3 = TelefonoTrabajo(\"Motorola\")\n",
        "print(dir(sp3))\n",
        "print(sp3.to_string())"
      ],
      "execution_count": 27,
      "outputs": [
        {
          "output_type": "stream",
          "text": [
            "['_SmartPhone__marca', '__class__', '__delattr__', '__dict__', '__dir__', '__doc__', '__eq__', '__format__', '__ge__', '__getattribute__', '__gt__', '__hash__', '__init__', '__init_subclass__', '__le__', '__lt__', '__module__', '__ne__', '__new__', '__reduce__', '__reduce_ex__', '__repr__', '__setattr__', '__sizeof__', '__str__', '__subclasshook__', '__weakref__', 'marca', 'to_string']\n",
            "Marca= Motorola\n"
          ],
          "name": "stdout"
        }
      ]
    }
  ]
}