{
  "nbformat": 4,
  "nbformat_minor": 0,
  "metadata": {
    "colab": {
      "name": "14Octubre1358.ipynb",
      "provenance": [],
      "authorship_tag": "ABX9TyP/FJy1zi1relYqZKRKTZ56",
      "include_colab_link": true
    },
    "kernelspec": {
      "name": "python3",
      "display_name": "Python 3"
    }
  },
  "cells": [
    {
      "cell_type": "markdown",
      "metadata": {
        "id": "view-in-github",
        "colab_type": "text"
      },
      "source": [
        "<a href=\"https://colab.research.google.com/github/ArturoBarrios9000/edd_1358_2021/blob/master/14Octubre1358.ipynb\" target=\"_parent\"><img src=\"https://colab.research.google.com/assets/colab-badge.svg\" alt=\"Open In Colab\"/></a>"
      ]
    },
    {
      "cell_type": "code",
      "metadata": {
        "id": "9uaL0xMEoQon",
        "outputId": "82b9135e-30a3-46c5-97c2-68c8cbe82a2c",
        "colab": {
          "base_uri": "https://localhost:8080/",
          "height": 85
        }
      },
      "source": [
        "def calcular(a,b,c):\n",
        "  x = a + (b/c)\n",
        "  return x\n",
        "\n",
        "print(calcular(5,9,3))\n",
        "print(calcular(a=5,b=3,c=9)) \n",
        "\n",
        "def calcular_v2(a=10,b=20, c=5):\n",
        "  x = a + (b/c)\n",
        "  return x\n",
        "\n",
        "\n",
        "print(calcular_v2()) #se pueden asigar valores a la definicion por defecto\n",
        "print(calcular_v2(40, 8)) # las variables las puedes cambiar apesar de estar def\n",
        "\n",
        "\n"
      ],
      "execution_count": 12,
      "outputs": [
        {
          "output_type": "stream",
          "text": [
            "8.0\n",
            "5.333333333333333\n",
            "14.0\n",
            "41.6\n"
          ],
          "name": "stdout"
        }
      ]
    },
    {
      "cell_type": "markdown",
      "metadata": {
        "id": "HwvIWO9Ar4kd"
      },
      "source": [
        "#argumentos a funciones por tupla *\n",
        "Se envian los argumentos en un conjunto de elementos dentro de una tupla"
      ]
    },
    {
      "cell_type": "code",
      "metadata": {
        "id": "K07OAQSAsCkU",
        "outputId": "dee1d3d9-9bfe-4e42-815e-715c0efe3016",
        "colab": {
          "base_uri": "https://localhost:8080/",
          "height": 51
        }
      },
      "source": [
        "def calculo(*elem):\n",
        "  print(elem)\n",
        "  x = elem[0]+ (elem[1]/elem[2])\n",
        "  return x\n",
        "\n",
        "print(calculo(5,9,3))"
      ],
      "execution_count": 14,
      "outputs": [
        {
          "output_type": "stream",
          "text": [
            "(5, 9, 3)\n",
            "8.0\n"
          ],
          "name": "stdout"
        }
      ]
    },
    {
      "cell_type": "markdown",
      "metadata": {
        "id": "7M4ggKIgswx9"
      },
      "source": [
        "# Argumentos como diccionario **\n"
      ]
    },
    {
      "cell_type": "code",
      "metadata": {
        "id": "rVB8CiGts2ji",
        "outputId": "f88cfa88-8c60-47f0-95b1-b395d5acc8cf",
        "colab": {
          "base_uri": "https://localhost:8080/",
          "height": 51
        }
      },
      "source": [
        "def calculo(**elem):\n",
        "  print(elem)\n",
        "  x =(elem['a']+ (elem['b']/elem ['c']))\n",
        "  return x\n",
        "\n",
        "print(calculo(a=5, b=9, c=3))"
      ],
      "execution_count": 16,
      "outputs": [
        {
          "output_type": "stream",
          "text": [
            "{'a': 5, 'b': 9, 'c': 3}\n",
            "8.0\n"
          ],
          "name": "stdout"
        }
      ]
    },
    {
      "cell_type": "markdown",
      "metadata": {
        "id": "hWjhaj_a2ipF"
      },
      "source": [
        "#Archivos\n",
        "- abrirlos\n",
        "  - un str con la ruta el arc\n",
        "- leerlos\n",
        "- modificarlos"
      ]
    },
    {
      "cell_type": "code",
      "metadata": {
        "id": "OhKUGxNo26S1"
      },
      "source": [
        "archivo = open('ejemplo.txt','wt') # crea y abre un archivo\n",
        "\n",
        "archivo.write(\"Hola mundo de at\")\n",
        "\n",
        "archivo.close()\n"
      ],
      "execution_count": 17,
      "outputs": []
    },
    {
      "cell_type": "code",
      "metadata": {
        "id": "MeAXsnyc5TOd"
      },
      "source": [
        "!(touch nuevo.txt)"
      ],
      "execution_count": 20,
      "outputs": []
    }
  ]
}