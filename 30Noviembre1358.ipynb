{
  "nbformat": 4,
  "nbformat_minor": 0,
  "metadata": {
    "colab": {
      "name": "30Noviembre1358.ipynb",
      "provenance": [],
      "collapsed_sections": [],
      "authorship_tag": "ABX9TyP9xLdSBqInsWQZmjdeveJt",
      "include_colab_link": true
    },
    "kernelspec": {
      "name": "python3",
      "display_name": "Python 3"
    }
  },
  "cells": [
    {
      "cell_type": "markdown",
      "metadata": {
        "id": "view-in-github",
        "colab_type": "text"
      },
      "source": [
        "<a href=\"https://colab.research.google.com/github/ArturoBarrios9000/edd_1358_2021/blob/master/30Noviembre1358.ipynb\" target=\"_parent\"><img src=\"https://colab.research.google.com/assets/colab-badge.svg\" alt=\"Open In Colab\"/></a>"
      ]
    },
    {
      "cell_type": "code",
      "metadata": {
        "id": "-0u37wGl8gtn"
      },
      "source": [
        "class Stack:\n",
        "  def __init__(self):\n",
        "    self.__data = []\n",
        "    self.__size =0\n",
        "  \n",
        "  def pop(self):\n",
        "    return self.__data.pop()\n",
        "  \n",
        "  def peek(self):\n",
        "    return self.__data[-1]\n",
        "  \n",
        "  def push (self, value):\n",
        "    self.__data.append(value)\n",
        "  \n",
        "  def to_string(self):\n",
        "    print(\"---------\")\n",
        "    for data in self.__data[::-1]:\n",
        "      print(f\" | { data } | \")\n",
        "      print(\"---------\")\n",
        "\n",
        "\n",
        "\n",
        "  \n",
        "\n"
      ],
      "execution_count": 32,
      "outputs": []
    },
    {
      "cell_type": "code",
      "metadata": {
        "colab": {
          "base_uri": "https://localhost:8080/"
        },
        "id": "9Wqj2onrABt5",
        "outputId": "3d6779c6-cf10-481d-d86d-cc3b8f5a77d3"
      },
      "source": [
        "pl = Stack()\n",
        "pl.push(34)\n",
        "pl.push(10)\n",
        "pl.push(45)\n",
        "pl.push(4)\n",
        "pl.push(23)\n",
        "pl.push(33)\n",
        "valor = pl.pop()\n",
        "print(valor * 2)\n",
        "pl.to_string()\n",
        "valor = pl.peek()\n",
        "print( valor * 2)\n",
        "pl.to_string()"
      ],
      "execution_count": 33,
      "outputs": [
        {
          "output_type": "stream",
          "text": [
            "66\n",
            "---------\n",
            " | 23 | \n",
            "---------\n",
            " | 4 | \n",
            "---------\n",
            " | 45 | \n",
            "---------\n",
            " | 10 | \n",
            "---------\n",
            " | 34 | \n",
            "---------\n",
            "46\n",
            "---------\n",
            " | 23 | \n",
            "---------\n",
            " | 4 | \n",
            "---------\n",
            " | 45 | \n",
            "---------\n",
            " | 10 | \n",
            "---------\n",
            " | 34 | \n",
            "---------\n"
          ],
          "name": "stdout"
        }
      ]
    },
    {
      "cell_type": "code",
      "metadata": {
        "colab": {
          "base_uri": "https://localhost:8080/"
        },
        "id": "PGPzvkQvB1-p",
        "outputId": "e2b1726d-2379-44a3-c20e-ec50603ad5a4"
      },
      "source": [
        "#aplicacion de la estructura Stack\n",
        "\"\"\"\n",
        "1.- Validacion de parentesis balanceados '(', '{' y '[' \n",
        "\"\"\"\n",
        "#cadena = \"b=3*(5(+(4/2))\"\n",
        "cadena =\"()\"\n",
        "pila = Stack()\n",
        "pila.push(\"#\") #caracter de pila vacia\n",
        "for elem in cadena:\n",
        "  if elem == \"(\":\n",
        "    pila.push(\"*\")\n",
        "  elif elem == \")\":\n",
        "    pila.pop()\n",
        "  else:\n",
        "    pass\n",
        "if pila.peek()== '#':\n",
        "  print(\"la expresion esta balaceada en parentesis\")\n",
        "else:\n",
        "  print(\"La expresion no esta balanceada\")"
      ],
      "execution_count": 35,
      "outputs": [
        {
          "output_type": "stream",
          "text": [
            "la expresion esta balaceada en parentesis\n"
          ],
          "name": "stdout"
        }
      ]
    }
  ]
}