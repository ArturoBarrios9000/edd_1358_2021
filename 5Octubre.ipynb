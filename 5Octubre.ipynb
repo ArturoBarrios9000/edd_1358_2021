{
  "nbformat": 4,
  "nbformat_minor": 0,
  "metadata": {
    "colab": {
      "name": "5Octubre.ipynb",
      "provenance": [],
      "authorship_tag": "ABX9TyNIjT9MA3Wc8NDcI1ViQPR3",
      "include_colab_link": true
    },
    "kernelspec": {
      "name": "python3",
      "display_name": "Python 3"
    }
  },
  "cells": [
    {
      "cell_type": "markdown",
      "metadata": {
        "id": "view-in-github",
        "colab_type": "text"
      },
      "source": [
        "<a href=\"https://colab.research.google.com/github/ArturoBarrios9000/edd_1358_2021/blob/master/5Octubre.ipynb\" target=\"_parent\"><img src=\"https://colab.research.google.com/assets/colab-badge.svg\" alt=\"Open In Colab\"/></a>"
      ]
    },
    {
      "cell_type": "code",
      "metadata": {
        "id": "OLTb3mP6SdR2",
        "outputId": "b7568bee-71ad-4979-df22-128e621f9313",
        "colab": {
          "base_uri": "https://localhost:8080/",
          "height": 51
        }
      },
      "source": [
        "precio = 12.5\n",
        "cantidad = 2\n",
        "existencia = True\n",
        "\n",
        "# precio de los chetos es de $ 12.5 y quiero 2, hay? :true\n",
        "\n",
        "print(\"precio de los chetos es de $\", precio, \"Quiero \", cantidad , \" Hay?\", existencia )\n",
        "\n",
        "# format de la clase str, los comodines cambian por el orden de format\n",
        "#con numeros cambia el orden de las variables\n",
        "\n",
        "print(\"precio de los chetos es de {} y quiero {}, hay? : {}\".format(precio, cantidad, existencia))\n",
        "print(\"precio de los chetos es de {1} y quiero {2}, hay? : {0}\".format(precio, cantidad, existencia))\n",
        "\n",
        "# con el operador f\" \n",
        "\n",
        "print(f\"precio de los chetos es de {precio} y quiero {cantidad}, hay? : {existencia}\")\n",
        "\n",
        "\n"
      ],
      "execution_count": 3,
      "outputs": [
        {
          "output_type": "stream",
          "text": [
            "precio de los chetos es de $ 12.5 Quiero  2  Hay? True\n",
            "precio de los chetos es de 12.5 y quiero 2, hay? : True\n"
          ],
          "name": "stdout"
        }
      ]
    },
    {
      "cell_type": "markdown",
      "metadata": {
        "id": "LfqvCTp9YQbo"
      },
      "source": [
        "# Listas \n",
        "declaracion [ ]\n",
        "\n",
        "Selector[ ]\n",
        "\n",
        "mutable, modificar los elementos internos\n",
        "\n",
        "# Tuplas\n",
        "Declaracion ()\n",
        "\n",
        "Selector ()\n",
        "\n",
        "no mutable\n",
        "# Diccionarios \n",
        "Son conjuntos de datos en pares de \n",
        "llave:valor\n",
        "\n",
        "son mutables\n",
        "\n",
        "equivalentes a JSON.\n",
        "\n",
        "# Conjuntos\n",
        "Grupos de elemtos con la teoria de conjuntos\n",
        "\n",
        "Operaciones de Conjuntos"
      ]
    },
    {
      "cell_type": "code",
      "metadata": {
        "id": "I6OBRnh-ZXAh",
        "outputId": "1ef91350-70a5-463c-fdc5-bdebff42fefa",
        "colab": {
          "base_uri": "https://localhost:8080/",
          "height": 428
        }
      },
      "source": [
        "# listas\n",
        "materias = [\"Cyp\", \"DAA\", \"EDD\", \"IS\", \"POO\"]\n",
        "print(materias)\n",
        "print(materias[2])\n",
        "print(materias[-1])\n",
        "print(materias[ : : -1])\n",
        "\n",
        "# crear una lista a partitr de un string\n",
        "fecha = \" 05/octubre/2020\"\n",
        "lista_fecha = fecha.split(\"/\")\n",
        "print(lista_fecha)\n",
        "\n",
        "# crear un string apartir de una lista\n",
        "lista_hora = [\"15\",\"22\",\"45\"]\n",
        "hora = \":\".join(lista_hora)\n",
        "print(hora)\n",
        "\n",
        "print(\"---------\")\n",
        "print(materias)\n",
        "print(lista_fecha)\n",
        "print(lista_hora)\n",
        "\n",
        "materias[0]=  \"computadoras y programacion\"\n",
        "print(materias)\n",
        "\n",
        "#agregar final de la lista \".append\" Muy importante memorizarla\n",
        "materias.append(\"calidad\")\n",
        "print(materias)\n",
        "\n",
        "#agregar en una posicion especifica \".insert\"\n",
        "materias.insert(2,\"Emprendimento\")\n",
        "print(materias)\n",
        "\n",
        "#  \".pop\" quitar el ultimo elemento por defecto, con indice el especifico \n",
        "materia = materias.pop()\n",
        "print(materia) \n",
        "print(materias)\n",
        "materia = materias.pop(1)\n",
        "print(materia) \n",
        "print(materias)\n",
        "\n",
        "#vaciar lista clear\n",
        "\n",
        "materias.clear()\n",
        "print(materia)\n",
        "\n",
        "print(\"--------\")\n",
        "# slicing [::]\n",
        "print(\"Slicing\")\n",
        "numeros = [0,1,2,3,4,5,6,7,8,9,10]\n",
        "print(numeros)\n",
        "print( numeros[4:10: 1] )\n",
        "\n",
        "# sustituir un segmento con Slicind[1,2,3,-2,9,10]\n",
        "numeros[4:9:]= [\"a\",\"b\"]\n",
        "print(numeros)\n"
      ],
      "execution_count": 32,
      "outputs": [
        {
          "output_type": "stream",
          "text": [
            "['Cyp', 'DAA', 'EDD', 'IS', 'POO']\n",
            "EDD\n",
            "POO\n",
            "['POO', 'IS', 'EDD', 'DAA', 'Cyp']\n",
            "[' 05', 'octubre', '2020']\n",
            "15:22:45\n",
            "---------\n",
            "['Cyp', 'DAA', 'EDD', 'IS', 'POO']\n",
            "[' 05', 'octubre', '2020']\n",
            "['15', '22', '45']\n",
            "['computadoras y programacion', 'DAA', 'EDD', 'IS', 'POO']\n",
            "['computadoras y programacion', 'DAA', 'EDD', 'IS', 'POO', 'calidad']\n",
            "['computadoras y programacion', 'DAA', 'Emprendimento', 'EDD', 'IS', 'POO', 'calidad']\n",
            "calidad\n",
            "['computadoras y programacion', 'DAA', 'Emprendimento', 'EDD', 'IS', 'POO']\n",
            "DAA\n",
            "['computadoras y programacion', 'Emprendimento', 'EDD', 'IS', 'POO']\n",
            "DAA\n",
            "--------\n",
            "Slicing\n",
            "[0, 1, 2, 3, 4, 5, 6, 7, 8, 9, 10]\n",
            "[4, 5, 6, 7, 8, 9]\n",
            "[0, 1, 2, 3, 'a', 'b', 9, 10]\n"
          ],
          "name": "stdout"
        }
      ]
    },
    {
      "cell_type": "code",
      "metadata": {
        "id": "qqkStSnQiMPk",
        "outputId": "bc7895d3-a5ea-496e-9a9e-0a26b36593c4",
        "colab": {
          "base_uri": "https://localhost:8080/",
          "height": 71
        }
      },
      "source": [
        "autos = [\"mazda\",\"honda\",\"akura\",\"ford\",\"vw\"]\n",
        "telefonos= [\"iphone\",\"hawei Mate 30\", \"xiaomi s10\",\"alcatel t1000\"]\n",
        "sistemas_operativos=[\"windows\", \"linux\", \"android\",\"iOS\",\"Macos\"]\n",
        "\n",
        "lista_2d=[autos,telefonos,sistemas_operativos]\n",
        "print(lista_2d)\n",
        "print(lista_2d[1][1])\n",
        "\n"
      ],
      "execution_count": 34,
      "outputs": [
        {
          "output_type": "stream",
          "text": [
            "[['mazda', 'honda', 'akura', 'ford', 'vw'], ['iphone', 'hawei Mate 30', 'xiaomi s10', 'alcatel t1000'], ['windows', 'linux', 'android', 'iOS', 'Macos']]\n",
            "hawei Mate 30\n"
          ],
          "name": "stdout"
        }
      ]
    }
  ]
}