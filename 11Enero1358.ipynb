{
  "nbformat": 4,
  "nbformat_minor": 0,
  "metadata": {
    "colab": {
      "name": "11Enero1358.ipynb",
      "provenance": [],
      "authorship_tag": "ABX9TyNcYY2KDhzjuyvfM5U0c4Mp",
      "include_colab_link": true
    },
    "kernelspec": {
      "name": "python3",
      "display_name": "Python 3"
    }
  },
  "cells": [
    {
      "cell_type": "markdown",
      "metadata": {
        "id": "view-in-github",
        "colab_type": "text"
      },
      "source": [
        "<a href=\"https://colab.research.google.com/github/ArturoBarrios9000/edd_1358_2021/blob/master/11Enero1358.ipynb\" target=\"_parent\"><img src=\"https://colab.research.google.com/assets/colab-badge.svg\" alt=\"Open In Colab\"/></a>"
      ]
    },
    {
      "cell_type": "code",
      "metadata": {
        "id": "COQG6ttCOWjj"
      },
      "source": [
        "class NodoArbol:\r\n",
        "  def __init__ (self, dato, hijo_izq = None, hijo_der=None):\r\n",
        "    self.dato = dato\r\n",
        "    self.hijo_izq = hijo_izq\r\n",
        "    self.hijo_der = hijo_der\r\n"
      ],
      "execution_count": 16,
      "outputs": []
    },
    {
      "cell_type": "code",
      "metadata": {
        "colab": {
          "base_uri": "https://localhost:8080/"
        },
        "id": "ipJdisAIO47X",
        "outputId": "f4be6892-19d2-4173-f0e2-c709121c438e"
      },
      "source": [
        "arbol = NodoArbol (\"R\")\r\n",
        "arbol.hijo_izq = NodoArbol(\"C\")\r\n",
        "arbol.hijo_der = NodoArbol(\"H\")\r\n",
        "# imprimo el nodo raiz??\r\n",
        "print(arbol.dato)\r\n",
        "# como imprimo el hijo izq?\r\n",
        "print(arbol.hijo_izq.dato)\r\n",
        "# como imprimo el hijo der\r\n",
        "print(arbol.hijo_der.dato)\r\n",
        "\r\n"
      ],
      "execution_count": 7,
      "outputs": [
        {
          "output_type": "stream",
          "text": [
            "R\n",
            "C\n",
            "H\n"
          ],
          "name": "stdout"
        }
      ]
    },
    {
      "cell_type": "code",
      "metadata": {
        "colab": {
          "base_uri": "https://localhost:8080/"
        },
        "id": "ZmbuaWRzS9lj",
        "outputId": "92a64191-55f6-4a8c-ff4e-0d3959919501"
      },
      "source": [
        "arbol_v2 = NodoArbol(\"R\", NodoArbol(\"C\"), NodoArbol(\"H\") )\r\n",
        "print(arbol_v2.dato)\r\n",
        "print(arbol_v2.hijo_izq.dato)\r\n",
        "print(arbol_v2.hijo_der.dato)"
      ],
      "execution_count": 9,
      "outputs": [
        {
          "output_type": "stream",
          "text": [
            "R\n",
            "C\n",
            "H\n"
          ],
          "name": "stdout"
        }
      ]
    },
    {
      "cell_type": "code",
      "metadata": {
        "colab": {
          "base_uri": "https://localhost:8080/"
        },
        "id": "CmPGIL8YTC2J",
        "outputId": "0a9c3626-f9f1-4885-a232-cc440be50f9f"
      },
      "source": [
        "arbol2 = NodoArbol(4, NodoArbol(3, (NodoArbol(2, NodoArbol(2)))), NodoArbol(5))\r\n",
        "\"\"\"\r\n",
        "print(arbol2.dato)\r\n",
        "print(arbol2.hijo_izq.dato)\r\n",
        "print(arbol2.hijo_der.dato)\r\n",
        "print(arbol2.hijo_izq.hijo_izq.dato)\r\n",
        "\"\"\"\r\n",
        "print(arbol2.hijo_izq.hijo_izq.hijo_izq.dato)\r\n",
        "\r\n",
        "aux = arbol2\r\n",
        "while aux.hijo_izq != None:\r\n",
        "  aux = aux.hijo_izq\r\n",
        "print(aux.dato)\r\n",
        "\r\n"
      ],
      "execution_count": 21,
      "outputs": [
        {
          "output_type": "stream",
          "text": [
            "2\n",
            "2\n"
          ],
          "name": "stdout"
        }
      ]
    },
    {
      "cell_type": "code",
      "metadata": {
        "id": "VY1WmuY-YUZk"
      },
      "source": [
        "class NodoArbol2:\r\n",
        "  def __init__ (self, dato, hijo_izq = None, hijo_der=None, hijo_cen= None):\r\n",
        "    self.dato = dato\r\n",
        "    self.hijo_izq = hijo_izq\r\n",
        "    self.hijo_cen = hijo_cen\r\n",
        "    self.hijo_der = hijo_der\r\n",
        "    "
      ],
      "execution_count": 27,
      "outputs": []
    },
    {
      "cell_type": "code",
      "metadata": {
        "id": "BRSUPIDHZCtA"
      },
      "source": [
        "arbol3 = NodoArbol2(\"R\", NodoArbol2(\"I\",None, NodoArbol2(\"X\"),None), NodoArbol2(\"C\",NodoArbol2(\"Y\"),None, None), NodoArbol2(\"D\",NodoArbol2(None, None, NodoArbol2(\"Z\"))))\r\n"
      ],
      "execution_count": 30,
      "outputs": []
    }
  ]
}