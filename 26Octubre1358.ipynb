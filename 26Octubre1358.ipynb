{
  "nbformat": 4,
  "nbformat_minor": 0,
  "metadata": {
    "colab": {
      "name": "26Octubre1358.ipynb",
      "provenance": [],
      "authorship_tag": "ABX9TyNeObIvQwqPoG00BJgbJDm0",
      "include_colab_link": true
    },
    "kernelspec": {
      "name": "python3",
      "display_name": "Python 3"
    }
  },
  "cells": [
    {
      "cell_type": "markdown",
      "metadata": {
        "id": "view-in-github",
        "colab_type": "text"
      },
      "source": [
        "<a href=\"https://colab.research.google.com/github/ArturoBarrios9000/edd_1358_2021/blob/master/26Octubre1358.ipynb\" target=\"_parent\"><img src=\"https://colab.research.google.com/assets/colab-badge.svg\" alt=\"Open In Colab\"/></a>"
      ]
    },
    {
      "cell_type": "code",
      "metadata": {
        "id": "BONRj4X7l31J",
        "outputId": "4b651e30-26e4-4abb-9b0b-ad3d9f316492",
        "colab": {
          "base_uri": "https://localhost:8080/",
          "height": 34
        }
      },
      "source": [
        "\"\"\"\n",
        "Array\n",
        "\"\"\"\n",
        "class Array(object):\n",
        "  def __init__(self, tam):\n",
        "    self.__datos = [ 0 for x in range(tam)]\n",
        "    \n",
        "  def get_item( self,index ):\n",
        "    return self.__datos[index]\n",
        "\n",
        "mi_arreglo= Array(10)\n",
        "print(mi_arreglo.get_item(2))"
      ],
      "execution_count": 2,
      "outputs": [
        {
          "output_type": "stream",
          "text": [
            "0\n"
          ],
          "name": "stdout"
        }
      ]
    }
  ]
}