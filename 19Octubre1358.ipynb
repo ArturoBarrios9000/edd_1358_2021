{
  "nbformat": 4,
  "nbformat_minor": 0,
  "metadata": {
    "colab": {
      "name": "19Octubre1358.ipynb",
      "provenance": [],
      "authorship_tag": "ABX9TyOBmWRWyx0SKTaQuDhusC9h",
      "include_colab_link": true
    },
    "kernelspec": {
      "name": "python3",
      "display_name": "Python 3"
    }
  },
  "cells": [
    {
      "cell_type": "markdown",
      "metadata": {
        "id": "view-in-github",
        "colab_type": "text"
      },
      "source": [
        "<a href=\"https://colab.research.google.com/github/ArturoBarrios9000/edd_1358_2021/blob/master/19Octubre1358.ipynb\" target=\"_parent\"><img src=\"https://colab.research.google.com/assets/colab-badge.svg\" alt=\"Open In Colab\"/></a>"
      ]
    },
    {
      "cell_type": "code",
      "metadata": {
        "id": "o3H9lNBMX_0M",
        "outputId": "07413efc-4875-4dc8-ec18-fde0aa27bd50",
        "colab": {
          "base_uri": "https://localhost:8080/",
          "height": 68
        }
      },
      "source": [
        "# read()\n",
        "archivo = open(\"frutas.txt\",'rt')\n",
        "\n",
        "data = archivo.read()\n",
        "print(data.upper())\n",
        "\n",
        "archivo.close()\n"
      ],
      "execution_count": 2,
      "outputs": [
        {
          "output_type": "stream",
          "text": [
            "LIMON, AGUACATE, FRESA, MANZANA, \n",
            "CIRUELA, CAPULIN, NARANJA\n",
            "PERA, KIWI\n"
          ],
          "name": "stdout"
        }
      ]
    },
    {
      "cell_type": "code",
      "metadata": {
        "id": "bETiOefueB0p",
        "outputId": "63774133-4cec-4bee-c671-e276705e7d3e",
        "colab": {
          "base_uri": "https://localhost:8080/",
          "height": 102
        }
      },
      "source": [
        "# read line\n",
        "archivo = open(\"frutas.txt\",'rt')\n",
        "data=archivo.readline()\n",
        "while data != \"\":\n",
        "  print (data)\n",
        "  data=archivo.readline()\n",
        "\n",
        "archivo.close()"
      ],
      "execution_count": 7,
      "outputs": [
        {
          "output_type": "stream",
          "text": [
            "limon, aguacate, fresa, manzana, \n",
            "\n",
            "ciruela, capulin, naranja\n",
            "\n",
            "pera, kiwi\n"
          ],
          "name": "stdout"
        }
      ]
    },
    {
      "cell_type": "code",
      "metadata": {
        "id": "79Eo6zakgIm_",
        "outputId": "0904dfdd-629d-4c9c-f1a6-6c080bd5eee8",
        "colab": {
          "base_uri": "https://localhost:8080/",
          "height": 71
        }
      },
      "source": [
        "# readlines()\n",
        "\n",
        "archivo = open(\"frutas.txt\",'rt')\n",
        "\n",
        "data=archivo.readlines()\n",
        "print(data)\n",
        "\n",
        "frutas=[]\n",
        "for linea in data:\n",
        "  frutas.append(linea.strip())\n",
        "\n",
        "frutas_final =[]\n",
        "for elm in frutas:\n",
        "  for fruta in elm.split(','):\n",
        "    frutas_final.append(fruta.strip())\n",
        "\n",
        "\n",
        "print(frutas_final)\n",
        "\n",
        "archivo.close()"
      ],
      "execution_count": 10,
      "outputs": [
        {
          "output_type": "stream",
          "text": [
            "['limon, aguacate, fresa, manzana, \\n', 'ciruela, capulin, naranja\\n', 'pera, kiwi']\n",
            "['limon', 'aguacate', 'fresa', 'manzana', '', 'ciruela', 'capulin', 'naranja', 'pera', 'kiwi']\n"
          ],
          "name": "stdout"
        }
      ]
    },
    {
      "cell_type": "markdown",
      "metadata": {
        "id": "PKhUgqK7lGkZ"
      },
      "source": [
        "# POO con python\n",
        "- clase\n",
        "- objetos\n",
        "- atributos\n",
        "- metodos\n",
        "- metodo constructor\n",
        "- encapsulamiento (publico y privado)\n",
        "- herencia\n",
        "\n",
        "Declarar clases en pyton se usa la palabra reservada \"class\""
      ]
    },
    {
      "cell_type": "code",
      "metadata": {
        "id": "dbGgtO0Jlhb2",
        "outputId": "335de956-cbd9-49b4-b0b5-3c405cd82685",
        "colab": {
          "base_uri": "https://localhost:8080/",
          "height": 231
        }
      },
      "source": [
        "\n",
        "#pyton no soporta poo pero lo puede simular\n",
        "class Persona:\n",
        "  def __intin__( self, edd, est):\n",
        "    self.__edad = 0\n",
        "    self.__estatura = 0.0 #Los guiones bajos los convierte en privados\n",
        "  def to_string( self ):\n",
        "    print(f\"Edad={self.__edad}, Estatura={self.__estatura}\")\n",
        "\n",
        "per1 = Persona(23,1.74)\n",
        "per1.to_string()\n",
        "per1.estatura = 100.4\n"
      ],
      "execution_count": 17,
      "outputs": [
        {
          "output_type": "error",
          "ename": "TypeError",
          "evalue": "ignored",
          "traceback": [
            "\u001b[0;31m---------------------------------------------------------------------------\u001b[0m",
            "\u001b[0;31mTypeError\u001b[0m                                 Traceback (most recent call last)",
            "\u001b[0;32m<ipython-input-17-8a3f8be6dfaa>\u001b[0m in \u001b[0;36m<module>\u001b[0;34m()\u001b[0m\n\u001b[1;32m      8\u001b[0m     \u001b[0mprint\u001b[0m\u001b[0;34m(\u001b[0m\u001b[0;34mf\"Edad={self.__edad}, Estatura={self.__estatura}\"\u001b[0m\u001b[0;34m)\u001b[0m\u001b[0;34m\u001b[0m\u001b[0;34m\u001b[0m\u001b[0m\n\u001b[1;32m      9\u001b[0m \u001b[0;34m\u001b[0m\u001b[0m\n\u001b[0;32m---> 10\u001b[0;31m \u001b[0mper1\u001b[0m \u001b[0;34m=\u001b[0m \u001b[0mPersona\u001b[0m\u001b[0;34m(\u001b[0m\u001b[0;36m23\u001b[0m\u001b[0;34m,\u001b[0m\u001b[0;36m1.74\u001b[0m\u001b[0;34m)\u001b[0m\u001b[0;34m\u001b[0m\u001b[0;34m\u001b[0m\u001b[0m\n\u001b[0m\u001b[1;32m     11\u001b[0m \u001b[0mper1\u001b[0m\u001b[0;34m.\u001b[0m\u001b[0mto_string\u001b[0m\u001b[0;34m(\u001b[0m\u001b[0;34m)\u001b[0m\u001b[0;34m\u001b[0m\u001b[0;34m\u001b[0m\u001b[0m\n\u001b[1;32m     12\u001b[0m \u001b[0mper1\u001b[0m\u001b[0;34m.\u001b[0m\u001b[0mestatura\u001b[0m \u001b[0;34m=\u001b[0m \u001b[0;36m100.4\u001b[0m\u001b[0;34m\u001b[0m\u001b[0;34m\u001b[0m\u001b[0m\n",
            "\u001b[0;31mTypeError\u001b[0m: object() takes no parameters"
          ]
        }
      ]
    }
  ]
}