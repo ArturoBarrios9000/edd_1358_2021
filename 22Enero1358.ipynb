{
  "nbformat": 4,
  "nbformat_minor": 0,
  "metadata": {
    "colab": {
      "name": "22Enero1358.ipynb",
      "provenance": [],
      "collapsed_sections": [],
      "authorship_tag": "ABX9TyMWlSWQ9OBQ11xk40vyoOCu",
      "include_colab_link": true
    },
    "kernelspec": {
      "name": "python3",
      "display_name": "Python 3"
    }
  },
  "cells": [
    {
      "cell_type": "markdown",
      "metadata": {
        "id": "view-in-github",
        "colab_type": "text"
      },
      "source": [
        "<a href=\"https://colab.research.google.com/github/ArturoBarrios9000/edd_1358_2021/blob/master/22Enero1358.ipynb\" target=\"_parent\"><img src=\"https://colab.research.google.com/assets/colab-badge.svg\" alt=\"Open In Colab\"/></a>"
      ]
    },
    {
      "cell_type": "code",
      "metadata": {
        "id": "SjKZ3SPXSWad"
      },
      "source": [
        "class NodoArbol:\r\n",
        "  def __init__(self, value, left=None, right=None):\r\n",
        "    self.data= value\r\n",
        "    self.left= left\r\n",
        "    self.right= right"
      ],
      "execution_count": 1,
      "outputs": []
    },
    {
      "cell_type": "code",
      "metadata": {
        "id": "PVHJ0DQ-S1H0"
      },
      "source": [
        "class ArbolBinarioBusqueda:\r\n",
        "  def __init__(self):\r\n",
        "    self.__root=None\r\n",
        "  \r\n",
        "  def insert (self, value):\r\n",
        "    if self.__root == None:\r\n",
        "      self.__root = NodoArbol(value)\r\n",
        "    else:\r\n",
        "      self.__insert__( self.__root, value)\r\n",
        "  \r\n",
        "  def __insert__(self, nodo, value): #este funcionara con recursividad\r\n",
        "    if nodo.data == value:\r\n",
        "      print(\"El nodo ya existe, no se inserta:\", value)\r\n",
        "    elif value < nodo.data:\r\n",
        "      #ir a izq\r\n",
        "      if nodo.left == None:\r\n",
        "        nodo.left =NodoArbol(value, None, None)\r\n",
        "      else:\r\n",
        "        self.__insert__(nodo.left, value)\r\n",
        "    else:\r\n",
        "      #ir a der\r\n",
        "      if nodo.right == None:\r\n",
        "        nodo.right = NodoArbol(value, None, None)\r\n",
        "      else:\r\n",
        "        self.__insert__(nodo.right, value)\r\n",
        "  def transversal(self, format=\"in\"):#in, pos, pre\r\n",
        "    if format == \"in\":\r\n",
        "      print(\"Recorrido in \")\r\n",
        "      self.__recorrido_in(self.__root)\r\n",
        "    elif format ==\"pre\":\r\n",
        "      print(\"\\nRecorrido en preorden\")\r\n",
        "      self.__recorrido_pre(self.__root)\r\n",
        "    elif format ==\"pos\":\r\n",
        "      print(\"\\nRecorrido en pos orden\")\r\n",
        "      self.__recorrido_pos(self.__root)\r\n",
        "    else:\r\n",
        "      print(\"formato no valido\")\r\n",
        "  \r\n",
        "  def __recorrido_in(self, nodo):\r\n",
        "    if nodo== None:\r\n",
        "      #print(\"caso base\")\r\n",
        "      pass\r\n",
        "    else:\r\n",
        "      self.__recorrido_in(nodo.left)\r\n",
        "      print(nodo.data , end=\",\")\r\n",
        "      self.__recorrido_in(nodo.right)\r\n",
        "    \r\n",
        "  def __recorrido_pos(self, nodo):\r\n",
        "    if nodo == None:\r\n",
        "      #print(\"caso base\")\r\n",
        "     pass\r\n",
        "    else:\r\n",
        "      self.__recorrido_pos(nodo.left)\r\n",
        "      self.__recorrido_pos(nodo.right)\r\n",
        "      print(nodo.data , end=\",\")\r\n",
        "  \r\n",
        "  def __recorrido_pre(self, nodo):\r\n",
        "    if nodo== None:\r\n",
        "      #print(\"caso base\")\r\n",
        "      pass\r\n",
        "    else:\r\n",
        "      print(nodo.data , end=\",\")\r\n",
        "      self.__recorrido_pre(nodo.left)\r\n",
        "      self.__recorrido_pre(nodo.right)\r\n",
        "  \r\n",
        "  def search(self, value):\r\n",
        "    if self.__root == None:\r\n",
        "      print(\"arbol vacio\")\r\n",
        "    else:\r\n",
        "      return self.__search(self.__root, value)\r\n",
        "  def __search(self, nodo, value):\r\n",
        "    if nodo== None:\r\n",
        "      return None\r\n",
        "    elif nodo.data == value:\r\n",
        "      return nodo\r\n",
        "    elif value < nodo.data:\r\n",
        "      print(\"ir a la izquierda\")\r\n",
        "      return self.__search(nodo.left, value )\r\n",
        "    else:\r\n",
        "      print(\"ir a la derecha\")\r\n",
        "      return self.__search(nodo.right, value )\r\n",
        "\r\n",
        "      "
      ],
      "execution_count": 35,
      "outputs": []
    },
    {
      "cell_type": "code",
      "metadata": {
        "colab": {
          "base_uri": "https://localhost:8080/"
        },
        "id": "MWusdZ4ddHz9",
        "outputId": "8cea4d93-7c92-4520-eb78-f58187c9fe5d"
      },
      "source": [
        "abb= ArbolBinarioBusqueda()\r\n",
        "abb.insert(50)\r\n",
        "abb.insert(30)\r\n",
        "abb.insert(60)\r\n",
        "abb.insert(35)\r\n",
        "abb.insert(89)\r\n",
        "abb.insert(70)\r\n",
        "abb.insert(1)\r\n",
        "abb.transversal()\r\n",
        "abb.transversal(\"pre\")\r\n",
        "abb.transversal(\"pos\")\r\n",
        "res = abb.search(70)\r\n",
        "print(f\"el nodo es:{res.data}, hijo izq {res.left}, hijo der {res.right}\")\r\n",
        "res= abb.search(30)\r\n",
        "print(f\"El nodo es:{res.data}, hijo izq {res.left}, hijo der {res.right}\")\r\n",
        "res= abb.search(89)\r\n",
        "print(f\"El nodo es:{res.data}, hijo izq {res.left}, hijo der {res.right}\")"
      ],
      "execution_count": 38,
      "outputs": [
        {
          "output_type": "stream",
          "text": [
            "Recorrido in \n",
            "1,30,35,50,60,70,89,\n",
            "Recorrido en preorden\n",
            "50,30,1,35,60,89,70,\n",
            "Recorrido en pos orden\n",
            "1,35,30,70,89,60,50,ir a la derecha\n",
            "ir a la derecha\n",
            "ir a la izquierda\n",
            "el nodo es:70, hijo izq None, hijo der None\n",
            "ir a la izquierda\n",
            "El nodo es:30, hijo izq <__main__.NodoArbol object at 0x7feb313549e8>, hijo der <__main__.NodoArbol object at 0x7feb3137f780>\n",
            "ir a la derecha\n",
            "ir a la derecha\n",
            "El nodo es:89, hijo izq <__main__.NodoArbol object at 0x7feb31354550>, hijo der None\n"
          ],
          "name": "stdout"
        }
      ]
    }
  ]
}