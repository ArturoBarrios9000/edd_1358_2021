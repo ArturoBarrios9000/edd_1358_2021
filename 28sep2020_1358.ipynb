{
  "nbformat": 4,
  "nbformat_minor": 0,
  "metadata": {
    "colab": {
      "name": "28sep2020_1358.ipynb",
      "provenance": [],
      "collapsed_sections": [],
      "authorship_tag": "ABX9TyM23JAJVtRYWCHkQHI4j2Rg",
      "include_colab_link": true
    },
    "kernelspec": {
      "name": "python3",
      "display_name": "Python 3"
    }
  },
  "cells": [
    {
      "cell_type": "markdown",
      "metadata": {
        "id": "view-in-github",
        "colab_type": "text"
      },
      "source": [
        "<a href=\"https://colab.research.google.com/github/ArturoBarrios9000/edd_1358_2021/blob/master/28sep2020_1358.ipynb\" target=\"_parent\"><img src=\"https://colab.research.google.com/assets/colab-badge.svg\" alt=\"Open In Colab\"/></a>"
      ]
    },
    {
      "cell_type": "code",
      "metadata": {
        "id": "PEvQZliVXRIb",
        "outputId": "ae35c301-18b4-4721-a15e-3a9f4fc9814c",
        "colab": {
          "base_uri": "https://localhost:8080/",
          "height": 34
        }
      },
      "source": [
        "print(\"hola colab research\") \n",
        "nombre = \"edb\"\n",
        "val = 10"
      ],
      "execution_count": null,
      "outputs": [
        {
          "output_type": "stream",
          "text": [
            "hola colab research\n"
          ],
          "name": "stdout"
        }
      ]
    },
    {
      "cell_type": "code",
      "metadata": {
        "id": "C4xu_FHAXvMO",
        "outputId": "d0454cb0-c508-4585-dc44-960aeec11269",
        "colab": {
          "base_uri": "https://localhost:8080/",
          "height": 51
        }
      },
      "source": [
        "print (nombre)\n",
        "print (val)"
      ],
      "execution_count": null,
      "outputs": [
        {
          "output_type": "stream",
          "text": [
            "edb\n",
            "10\n"
          ],
          "name": "stdout"
        }
      ]
    },
    {
      "cell_type": "markdown",
      "metadata": {
        "id": "kturuz0xaE6H"
      },
      "source": [
        "# Encabezado\n",
        "## Encabezado lv 2 \n",
        "### Sintaxis Mardown\n",
        "*   Elemento 1\n",
        "*   Elemento 2\n",
        "\n",
        "1. fresa\n",
        "1. ma\n",
        "1. 7asd\n",
        "1. qweqewqwe\n",
        "\n",
        "el texto largo en **negritas** y en _italica_.\n",
        "\n",
        "[Ir a google] [https://www.google.com]"
      ]
    },
    {
      "cell_type": "code",
      "metadata": {
        "id": "7-DKDJR2cA8u"
      },
      "source": [
        "class Silla():\n",
        "  def __init__ ( self ) :\n",
        "    self.material = \"\"\n",
        "    self.color = \"\"\n",
        "  def to_string( self ):\n",
        "    print(\"--------\")\n",
        "    print(f\"Material: {self.material}\")\n",
        "    print(f\"{self.color}----\")"
      ],
      "execution_count": null,
      "outputs": []
    },
    {
      "cell_type": "code",
      "metadata": {
        "id": "m268Hd32dtT2",
        "outputId": "75c72115-eb80-47cc-c7b4-e6e3d2f8e219",
        "colab": {
          "base_uri": "https://localhost:8080/",
          "height": 68
        }
      },
      "source": [
        "obj = Silla()\n",
        "obj.color=\"Café\"\n",
        "obj.material=\"Metal\"\n",
        "obj.to_string()"
      ],
      "execution_count": null,
      "outputs": [
        {
          "output_type": "stream",
          "text": [
            "--------\n",
            "Material: Metal\n",
            "Café----\n"
          ],
          "name": "stdout"
        }
      ]
    }
  ]
}