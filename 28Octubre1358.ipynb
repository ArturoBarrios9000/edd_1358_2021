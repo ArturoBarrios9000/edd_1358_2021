{
  "nbformat": 4,
  "nbformat_minor": 0,
  "metadata": {
    "colab": {
      "name": "28Octubre1358.ipynb",
      "provenance": [],
      "authorship_tag": "ABX9TyPzTIGe2qqSlgWk+sccwnKu",
      "include_colab_link": true
    },
    "kernelspec": {
      "name": "python3",
      "display_name": "Python 3"
    }
  },
  "cells": [
    {
      "cell_type": "markdown",
      "metadata": {
        "id": "view-in-github",
        "colab_type": "text"
      },
      "source": [
        "<a href=\"https://colab.research.google.com/github/ArturoBarrios9000/edd_1358_2021/blob/master/28Octubre1358.ipynb\" target=\"_parent\"><img src=\"https://colab.research.google.com/assets/colab-badge.svg\" alt=\"Open In Colab\"/></a>"
      ]
    },
    {
      "cell_type": "code",
      "metadata": {
        "id": "jicfmV0hCGE5",
        "outputId": "1ac48ffb-7c48-45ba-8a18-c2b7f806602b",
        "colab": {
          "base_uri": "https://localhost:8080/",
          "height": 129
        }
      },
      "source": [
        "\"\"\"\n",
        "Array\n",
        "\"\"\"\n",
        "class Array:\n",
        "  def __init__(self, tam):\n",
        "    self.__datos = [0 for x in range(tam)] #generador \n",
        "\n",
        "  def get_item(self, index):\n",
        "    dato = 0\n",
        "    if index >=0 and index < len(self.__datos):\n",
        "      dato = self.__datos[index]\n",
        "    else:\n",
        "      print(\"Error en el indice\")\n",
        "    return dato\n",
        "  def set_item(self, dato ,index):\n",
        "    if index >=0 and index < len(self.__datos):\n",
        "      self.__datos[index] = dato\n",
        "    else:\n",
        "      print(\"Error en el indice\")\n",
        "  def get_length (self): #arreglo\n",
        "    \n",
        "    return len(self.datos)\n",
        "  \n",
        "  def clear(self, dato):\n",
        "    self.__datos= [dato for x in range(self.__tam)]\n",
        "   def getIterator( self ):\n",
        "        return _getIterator( self.__datos )\n",
        "\n",
        "\n",
        "class _getIterator:\n",
        "    def __init__( self , arreglo ):\n",
        "        self.__arreglo = arreglo\n",
        "        self.__indice_actual = 0\n",
        "\n",
        "    def __iter__( self ):\n",
        "        return self\n",
        "\n",
        "    def __next__( self  ):\n",
        "        if self.__indice_actual < len(self.__arreglo):\n",
        "            dato = self.__arreglo[self.__indice_actual]\n",
        "            self.__indice_actual +=1\n",
        "            return dato\n",
        "        else:\n",
        "            raise StopIteration\n",
        "\n",
        "\n",
        "mi_arreglo = Array(10)\n",
        "print(mi_arreglo.get_item(20))\n",
        "mi_arreglo.set_item(2345, 3)\n",
        "print(mi_arreglo.get_item(3))\n",
        "\n",
        "for x in mi_arreglo.get_Iterator():\n",
        "  print(x)"
      ],
      "execution_count": 15,
      "outputs": [
        {
          "output_type": "error",
          "ename": "IndentationError",
          "evalue": "ignored",
          "traceback": [
            "\u001b[0;36m  File \u001b[0;32m\"<ipython-input-15-4e1915497a1b>\"\u001b[0;36m, line \u001b[0;32m26\u001b[0m\n\u001b[0;31m    def getIterator( self ):\u001b[0m\n\u001b[0m                            ^\u001b[0m\n\u001b[0;31mIndentationError\u001b[0m\u001b[0;31m:\u001b[0m unindent does not match any outer indentation level\n"
          ]
        }
      ]
    }
  ]
}