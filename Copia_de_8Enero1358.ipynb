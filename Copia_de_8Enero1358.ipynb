{
  "nbformat": 4,
  "nbformat_minor": 0,
  "metadata": {
    "colab": {
      "name": "Copia de 8Enero1358.ipynb",
      "provenance": [],
      "authorship_tag": "ABX9TyMBMtXcN/JqfItq9bKF6Bkk",
      "include_colab_link": true
    },
    "kernelspec": {
      "name": "python3",
      "display_name": "Python 3"
    }
  },
  "cells": [
    {
      "cell_type": "markdown",
      "metadata": {
        "id": "view-in-github",
        "colab_type": "text"
      },
      "source": [
        "<a href=\"https://colab.research.google.com/github/ArturoBarrios9000/edd_1358_2021/blob/master/Copia_de_8Enero1358.ipynb\" target=\"_parent\"><img src=\"https://colab.research.google.com/assets/colab-badge.svg\" alt=\"Open In Colab\"/></a>"
      ]
    },
    {
      "cell_type": "code",
      "metadata": {
        "id": "0wAb3xEhpNME"
      },
      "source": [
        "class Queue:\r\n",
        "  def __init__ (self):\r\n",
        "    self.__data = list()\r\n",
        "\r\n",
        "  def is_empty(self):\r\n",
        "    return len(self.__data)==0\r\n",
        "  \r\n",
        "  def length(self):\r\n",
        "    return leng(self.__data)\r\n",
        "  \r\n",
        "  def enqueue (self, item):\r\n",
        "    self.__data.append(item) #metodo de la clase list\r\n",
        "\r\n",
        "  def dequeue (self):\r\n",
        "    if not self.is_empty():\r\n",
        "      return self.__data.pop(0)\r\n",
        "    else:\r\n",
        "      return None\r\n",
        "  \r\n",
        "  def to_string(self):\r\n",
        "    cadena = \"\"\r\n",
        "    for elem in self.__data:\r\n",
        "      cadena= cadena+ \" | \" + elem\r\n",
        "    cadena = cadena +\" | \"\r\n",
        "    return cadena\r\n",
        "\r\n"
      ],
      "execution_count": null,
      "outputs": []
    },
    {
      "cell_type": "code",
      "metadata": {
        "id": "Nqc9Vp1cpXc5"
      },
      "source": [
        "class BoundedPriorityQueue:\r\n",
        "  def __init__(self, niveles):\r\n",
        "    self.__data= [ Queue() for x in range(niveles)]\r\n",
        "    self.__size = 0\r\n",
        "  \r\n",
        "  def is_empty(self):\r\n",
        "    return self.__size==0\r\n",
        "  \r\n",
        "  def length(self):\r\n",
        "    return self.__size\r\n",
        "  \r\n",
        "  def enqueue(self, prioridad, elem):\r\n",
        "    if prioridad < len(self.__data) and prioridad >=0:\r\n",
        "      self.__data[prioridad].enqueue( elem )\r\n",
        "      self.__size += 1\r\n",
        "    else:\r\n",
        "      print(\"Prioridad fuera de Rango\")\r\n",
        "  \r\n",
        "  def dequeue (self):\r\n",
        "    if not self.is_empty():\r\n",
        "      nivel = 0\r\n",
        "      while self.__data[nivel].is_empty():\r\n",
        "        nivel += 1\r\n",
        "      return self.__data[nivel].dequeue()\r\n",
        "    \r\n",
        "  def to_string (self):\r\n",
        "    for nivel in range(len(self.__data)):\r\n",
        "      print(f\"Nivel {nivel} --> {self.__data[nivel].to_string()}\")\r\n",
        "    \r\n",
        "\r\n",
        "\r\n"
      ],
      "execution_count": null,
      "outputs": []
    },
    {
      "cell_type": "code",
      "metadata": {
        "colab": {
          "base_uri": "https://localhost:8080/"
        },
        "id": "0ly_LFmg2Fmx",
        "outputId": "51c9de81-d459-41eb-cc0f-71c77e4f0098"
      },
      "source": [
        "cpa = BoundedPriorityQueue( 5 )\r\n",
        "\"\"\"\r\n",
        "prioridad\r\n",
        "2  Diana\r\n",
        "3  Santiago\r\n",
        "0  Robert \r\n",
        "0  Pedro\r\n",
        "2  Maria\r\n",
        "3  Jose\r\n",
        "4  Mayra\r\n",
        "4  Elena\r\n",
        "\"\"\"\r\n",
        "cpa.enqueue(2 ,\"Diana\")\r\n",
        "\r\n",
        "cpa.enqueue(3 ,\"Santiago\")\r\n",
        "cpa.enqueue(0 ,\"Robert\")\r\n",
        "cpa.enqueue(0 ,\"Pedro\")\r\n",
        "cpa.enqueue(2 ,\"Maria\")\r\n",
        "cpa.enqueue(3 ,\"Jose\")\r\n",
        "cpa.enqueue(4 ,\"Mayra\")\r\n",
        "cpa.enqueue(4 ,\"Elena\")\r\n",
        "cpa.to_string()\r\n",
        "print(\"-----------\")\r\n",
        "siguiente = cpa.dequeue()\r\n",
        "print(siguiente)\r\n",
        "print(\"-----------\")\r\n",
        "cpa.to_string()"
      ],
      "execution_count": null,
      "outputs": [
        {
          "output_type": "stream",
          "text": [
            "Nivel 0 -->  | Robert | Pedro | \n",
            "Nivel 1 -->  | \n",
            "Nivel 2 -->  | Diana | Maria | \n",
            "Nivel 3 -->  | Santiago | Jose | \n",
            "Nivel 4 -->  | Mayra | Elena | \n",
            "-----------\n",
            "Robert\n",
            "-----------\n",
            "Nivel 0 -->  | Pedro | \n",
            "Nivel 1 -->  | \n",
            "Nivel 2 -->  | Diana | Maria | \n",
            "Nivel 3 -->  | Santiago | Jose | \n",
            "Nivel 4 -->  | Mayra | Elena | \n"
          ],
          "name": "stdout"
        }
      ]
    }
  ]
}