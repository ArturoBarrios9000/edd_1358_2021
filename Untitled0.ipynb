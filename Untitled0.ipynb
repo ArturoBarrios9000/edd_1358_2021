{
  "nbformat": 4,
  "nbformat_minor": 0,
  "metadata": {
    "colab": {
      "name": "Untitled0.ipynb",
      "provenance": [],
      "collapsed_sections": [],
      "authorship_tag": "ABX9TyNsObszcvBxd1HhiTTr0aWL",
      "include_colab_link": true
    },
    "kernelspec": {
      "name": "python3",
      "display_name": "Python 3"
    }
  },
  "cells": [
    {
      "cell_type": "markdown",
      "metadata": {
        "id": "view-in-github",
        "colab_type": "text"
      },
      "source": [
        "<a href=\"https://colab.research.google.com/github/ArturoBarrios9000/edd_1358_2021/blob/master/Untitled0.ipynb\" target=\"_parent\"><img src=\"https://colab.research.google.com/assets/colab-badge.svg\" alt=\"Open In Colab\"/></a>"
      ]
    },
    {
      "cell_type": "markdown",
      "metadata": {
        "id": "mDphzqwkstSC"
      },
      "source": [
        "# Fundamentos de python 3\n",
        "### tipos de  datos\n",
        "edad = 13\n",
        "nombre = Jose\n",
        "estatura = 1.67\n",
        "tienen_ine = True\n",
        "\n",
        "### Compuestos\n",
        "\n",
        "#### Listas\n",
        "Son mutables\n",
        "Se accede a los elentos via el indice\n",
        "los elementos pueden ser de diferente tipo\n",
        "lista_ejemplo= [\"Manzana\", 1.57, True, [\"rojo\", \"azul\"]]\n",
        "\n",
        "#### Tuplas\n",
        "Son inmutables\n",
        "Se accede a los elentos via el indice\n",
        "los elementos pueden ser de diferente tipo\n",
        "tupla_ejemplo = (\"root\", \"1115812.15223\", \"1234dios\")\n",
        "\n",
        "#### Dicionarios\n",
        "Son equivalentes a los JSON de JS\n",
        "\n",
        "#### Sets\n",
        "Son datos agrupados"
      ]
    },
    {
      "cell_type": "code",
      "metadata": {
        "id": "I3Jk5_KTuJvM",
        "outputId": "2d1e9af2-b485-41b3-a9e7-13e45d4ad811",
        "colab": {
          "base_uri": "https://localhost:8080/",
          "height": 241
        }
      },
      "source": [
        "lista_ejemplo= [\"Manzana\", 1.57, True, [\"rojo\", \"azul\"]]\n",
        "print (lista_ejemplo[1] )\n",
        "print (lista_ejemplo[3] )\n",
        "print (lista_ejemplo[3][1] )\n",
        "lista_ejemplo[0]=\"Mandarina\"\n",
        "print(lista_ejemplo)\n",
        "# elemento al final\n",
        "lista_ejemplo.append(\"iphone\")\n",
        "print(lista_ejemplo)\n",
        "#quitar ultimo elemento\n",
        "valor = lista_ejemplo.pop()\n",
        "print(valor)\n",
        "print(lista_ejemplo)\n",
        "# Documentacion del tipo lista dir(resumida) y help(detllada)\n",
        "print(\"------\")\n",
        "# Insert\n",
        "lista_ejemplo.insert(1,\"Huawei\")\n",
        "print(lista_ejemplo)\n",
        "\n",
        "# Count cuantas veces existe un valor\n",
        "conteo =lista_ejemplo.count(True)\n",
        "print(conteo)\n",
        "\n",
        "#extend dos listas en una \n",
        "# apend lista de una lista\n",
        "\n",
        "colores = [\"morado\", \"rosa\",\"verde\"]\n",
        "\n",
        "lista_ejemplo.append(colores)\n",
        "print(lista_ejemplo)\n",
        "lista_ejemplo.extend(colores)\n",
        "print(lista_ejemplo)"
      ],
      "execution_count": 14,
      "outputs": [
        {
          "output_type": "stream",
          "text": [
            "1.57\n",
            "['rojo', 'azul']\n",
            "azul\n",
            "['Mandarina', 1.57, True, ['rojo', 'azul']]\n",
            "['Mandarina', 1.57, True, ['rojo', 'azul'], 'iphone']\n",
            "iphone\n",
            "['Mandarina', 1.57, True, ['rojo', 'azul']]\n",
            "------\n",
            "['Mandarina', 'Huawei', 1.57, True, ['rojo', 'azul']]\n",
            "1\n",
            "['Mandarina', 'Huawei', 1.57, True, ['rojo', 'azul'], ['morado', 'rosa', 'verde']]\n",
            "['Mandarina', 'Huawei', 1.57, True, ['rojo', 'azul'], ['morado', 'rosa', 'verde'], 'morado', 'rosa', 'verde']\n"
          ],
          "name": "stdout"
        }
      ]
    }
  ]
}