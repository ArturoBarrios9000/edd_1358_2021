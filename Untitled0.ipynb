{
  "nbformat": 4,
  "nbformat_minor": 0,
  "metadata": {
    "colab": {
      "name": "Untitled0.ipynb",
      "provenance": [],
      "authorship_tag": "ABX9TyPYL4k4aaWy+aLiPrr4C+bp",
      "include_colab_link": true
    },
    "kernelspec": {
      "name": "python3",
      "display_name": "Python 3"
    }
  },
  "cells": [
    {
      "cell_type": "markdown",
      "metadata": {
        "id": "view-in-github",
        "colab_type": "text"
      },
      "source": [
        "<a href=\"https://colab.research.google.com/github/ArturoBarrios9000/edd_1358_2021/blob/master/Untitled0.ipynb\" target=\"_parent\"><img src=\"https://colab.research.google.com/assets/colab-badge.svg\" alt=\"Open In Colab\"/></a>"
      ]
    },
    {
      "cell_type": "code",
      "metadata": {
        "id": "aVH3H62fKFca"
      },
      "source": [
        "class NodoDoble:\n",
        "  def __init__( self , value , previo = None , siguiente = None ):\n",
        "    self.data = value\n",
        "    self.prev = previo\n",
        "    self.next = siguiente\n",
        " \n",
        "class DoubleLinkedList:\n",
        "  def __init__(self):\n",
        "    self.__head = None\n",
        "    self.__tail = None\n",
        "    self.__size = 0\n",
        "  def get_size(self):\n",
        "    return self.__size\n",
        "  def is_empty(self):\n",
        "    return self.__size == 0\n",
        "  def append (self, value):\n",
        "    if self.is_empty() :\n",
        "      nuevo = NodoDoble(value)\n",
        "      self.__head= nuevo\n",
        "      self.__tail= nuevo\n",
        "    else:\n",
        "      nuevo = NodoDoble(value, self.__tail, None )\n",
        "      self.__tail.next = nuevo #hace que tail apunte al elemento anterior\n",
        "\n",
        "      self.__tail = nuevo\n",
        "    self.__size += 1\n",
        "  \n",
        "  def transversal(self):\n",
        "    curr_node = self.__head\n",
        "    while curr_node != None:\n",
        "      print(\"<--\", curr_node.data, \"-->\", end=\"\")\n",
        "      curr_node= curr_node.next\n",
        "    print(\"\")\n",
        "  def remove_from_head(self, value):\n",
        "    if self.is_empty():\n",
        "      pass\n",
        "    else:\n",
        "      curr_node = self.__head\n",
        "      while curr_node.data != value and curr_node != None:\n",
        "        curr_node = curr_node.next\n",
        "      if curr_node.data == value: #caso especial. Que pasa si el que se elimina es head\n",
        "        curr_node.prev.next = curr_node.next\n",
        "        curr_node.next.prev = curr_node.prev\n",
        "    self.__size -= 1\n",
        "\n",
        "\n",
        "                       \n",
        "\n",
        "\n",
        "\n"
      ],
      "execution_count": 17,
      "outputs": []
    },
    {
      "cell_type": "code",
      "metadata": {
        "colab": {
          "base_uri": "https://localhost:8080/"
        },
        "id": "bjodqW8yRlvQ",
        "outputId": "86337ced-4e33-47dc-d76a-5c03af9adbff"
      },
      "source": [
        "ldl = DoubleLinkedList()\n",
        "print(ldl.get_size())\n",
        "ldl.append(10)\n",
        "ldl.append(20)\n",
        "ldl.append(30)\n",
        "print(ldl.get_size())\n",
        "ldl.transversal()\n",
        "ldl.remove_from_head(20)\n",
        "ldl.transversal()"
      ],
      "execution_count": 20,
      "outputs": [
        {
          "output_type": "stream",
          "text": [
            "0\n",
            "3\n",
            "<-- 10 --><-- 20 --><-- 30 -->\n",
            "<-- 10 --><-- 30 -->\n"
          ],
          "name": "stdout"
        }
      ]
    }
  ]
}